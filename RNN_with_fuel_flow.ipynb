{
  "nbformat": 4,
  "nbformat_minor": 0,
  "metadata": {
    "colab": {
      "name": "RNN_with_fuel_flow.ipynb",
      "version": "0.3.2",
      "provenance": [],
      "collapsed_sections": [],
      "include_colab_link": true
    },
    "kernelspec": {
      "name": "python3",
      "display_name": "Python 3"
    },
    "accelerator": "TPU"
  },
  "cells": [
    {
      "cell_type": "markdown",
      "metadata": {
        "id": "view-in-github",
        "colab_type": "text"
      },
      "source": [
        "<a href=\"https://colab.research.google.com/github/shafkat2/machine_learning/blob/master/RNN_with_fuel_flow.ipynb\" target=\"_parent\"><img src=\"https://colab.research.google.com/assets/colab-badge.svg\" alt=\"Open In Colab\"/></a>"
      ]
    },
    {
      "metadata": {
        "id": "OEpwun6dWW8E",
        "colab_type": "code",
        "outputId": "674c7f7a-c9ae-49a9-8af7-1258e603b500",
        "colab": {
          "base_uri": "https://localhost:8080/",
          "height": 128
        }
      },
      "cell_type": "code",
      "source": [
        "\n",
        "from google.colab import drive\n",
        "drive.mount('/content/drive/')\n",
        "\n"
      ],
      "execution_count": 0,
      "outputs": [
        {
          "output_type": "stream",
          "text": [
            "Go to this URL in a browser: https://accounts.google.com/o/oauth2/auth?client_id=947318989803-6bn6qk8qdgf4n4g3pfee6491hc0brc4i.apps.googleusercontent.com&redirect_uri=urn%3Aietf%3Awg%3Aoauth%3A2.0%3Aoob&scope=email%20https%3A%2F%2Fwww.googleapis.com%2Fauth%2Fdocs.test%20https%3A%2F%2Fwww.googleapis.com%2Fauth%2Fdrive%20https%3A%2F%2Fwww.googleapis.com%2Fauth%2Fdrive.photos.readonly%20https%3A%2F%2Fwww.googleapis.com%2Fauth%2Fpeopleapi.readonly&response_type=code\n",
            "\n",
            "Enter your authorization code:\n",
            "··········\n",
            "Mounted at /content/drive/\n"
          ],
          "name": "stdout"
        }
      ]
    },
    {
      "metadata": {
        "id": "IMQobux6O59W",
        "colab_type": "code",
        "outputId": "707bba38-8d42-4c0f-e6e6-f50bf7d4bb54",
        "colab": {
          "base_uri": "https://localhost:8080/",
          "height": 255
        }
      },
      "cell_type": "code",
      "source": [
        "!wget https://bin.equinox.io/c/4VmDzA7iaHb/ngrok-stable-linux-amd64.zip\n",
        "!unzip ngrok-stable-linux-amd64.zip"
      ],
      "execution_count": 0,
      "outputs": [
        {
          "output_type": "stream",
          "text": [
            "--2019-01-31 10:09:12--  https://bin.equinox.io/c/4VmDzA7iaHb/ngrok-stable-linux-amd64.zip\n",
            "Resolving bin.equinox.io (bin.equinox.io)... 52.7.169.168, 52.4.75.11, 52.71.139.107, ...\n",
            "Connecting to bin.equinox.io (bin.equinox.io)|52.7.169.168|:443... connected.\n",
            "HTTP request sent, awaiting response... 200 OK\n",
            "Length: 5363700 (5.1M) [application/octet-stream]\n",
            "Saving to: ‘ngrok-stable-linux-amd64.zip.2’\n",
            "\n",
            "\r          ngrok-sta   0%[                    ]       0  --.-KB/s               \r         ngrok-stab  34%[=====>              ]   1.75M  8.44MB/s               \rngrok-stable-linux- 100%[===================>]   5.11M  21.2MB/s    in 0.2s    \n",
            "\n",
            "2019-01-31 10:09:13 (21.2 MB/s) - ‘ngrok-stable-linux-amd64.zip.2’ saved [5363700/5363700]\n",
            "\n",
            "Archive:  ngrok-stable-linux-amd64.zip\n",
            "replace ngrok? [y]es, [n]o, [A]ll, [N]one, [r]ename: y\n",
            "  inflating: ngrok                   \n"
          ],
          "name": "stdout"
        }
      ]
    },
    {
      "metadata": {
        "id": "LSKMy_5PN6jI",
        "colab_type": "code",
        "colab": {}
      },
      "cell_type": "code",
      "source": [
        "LOG_DIR = './log'\n",
        "get_ipython().system_raw(\n",
        "    'tensorboard --logdir {} --host 0.0.0.0 --port 6006 &'\n",
        "    .format(LOG_DIR)\n",
        ")"
      ],
      "execution_count": 0,
      "outputs": []
    },
    {
      "metadata": {
        "id": "GPPsaHsXPB-v",
        "colab_type": "code",
        "colab": {}
      },
      "cell_type": "code",
      "source": [
        "get_ipython().system_raw('./ngrok http 6006 &')"
      ],
      "execution_count": 0,
      "outputs": []
    },
    {
      "metadata": {
        "id": "EaTVi-IDPERx",
        "colab_type": "code",
        "outputId": "56a7687e-06f1-4be7-ceb5-9a7ed934175a",
        "colab": {
          "base_uri": "https://localhost:8080/",
          "height": 34
        }
      },
      "cell_type": "code",
      "source": [
        "! curl -s http://localhost:4040/api/tunnels | python3 -c \\\n",
        "    \"import sys, json; print(json.load(sys.stdin)['tunnels'][0]['public_url'])\""
      ],
      "execution_count": 0,
      "outputs": [
        {
          "output_type": "stream",
          "text": [
            "http://c3739c8a.ngrok.io\n"
          ],
          "name": "stdout"
        }
      ]
    },
    {
      "metadata": {
        "id": "e9KQOO13LbWu",
        "colab_type": "text"
      },
      "cell_type": "markdown",
      "source": [
        "***Imports***"
      ]
    },
    {
      "metadata": {
        "id": "p_T8LbHwcVQ8",
        "colab_type": "code",
        "outputId": "3944bb44-ce3c-401a-f140-4bb4464e82bf",
        "colab": {
          "base_uri": "https://localhost:8080/",
          "height": 54
        }
      },
      "cell_type": "code",
      "source": [
        "\n",
        "import os\n",
        "import numpy as np\n",
        "import tensorflow as tf\n",
        "import matplotlib.pyplot as plt\n",
        "from sklearn.utils import shuffle\n",
        "import pandas as pd\n",
        "import seaborn as sns\n",
        "from sklearn.model_selection import train_test_split\n",
        "from sklearn import preprocessing\n",
        "!pip install xlrd\n",
        "from scipy import signal\n",
        "import random\n",
        "from scipy.interpolate import interp1d\n",
        "from tensorflow.keras.models import Sequential\n",
        "from tensorflow.keras.layers import Dense,Input,RepeatVector,TimeDistributed\n",
        "from tensorflow.keras.layers import LSTM,Dropout,Bidirectional,GRU\n",
        "from sklearn.metrics import mean_squared_error\n",
        "import math\n",
        "import time as time\n",
        "from sklearn.cluster import AgglomerativeClustering\n",
        "import seaborn as sns\n",
        "from scipy.signal import medfilt\n",
        "from scipy.signal import savgol_filter\n",
        "from keras.models import model_from_json\n",
        "import pywt\n",
        "from statsmodels.robust import mad\n",
        "from sklearn.neighbors import kneighbors_graph\n",
        "from keras.callbacks import TensorBoard"
      ],
      "execution_count": 0,
      "outputs": [
        {
          "output_type": "stream",
          "text": [
            "Requirement already satisfied: xlrd in /usr/local/lib/python3.6/dist-packages (1.1.0)\n"
          ],
          "name": "stdout"
        },
        {
          "output_type": "stream",
          "text": [
            "Using TensorFlow backend.\n"
          ],
          "name": "stderr"
        }
      ]
    },
    {
      "metadata": {
        "id": "sKVvY_QJNY-p",
        "colab_type": "code",
        "colab": {}
      },
      "cell_type": "code",
      "source": [
        ""
      ],
      "execution_count": 0,
      "outputs": []
    },
    {
      "metadata": {
        "id": "2yaMOXecPgFg",
        "colab_type": "code",
        "colab": {}
      },
      "cell_type": "code",
      "source": [
        "#!ls \"/content/drive/My Drive/Machine_Learning/CSE499VTS/\"\\\n",
        "#!ls \"/content/drive/My Drive/CSE499.A\""
      ],
      "execution_count": 0,
      "outputs": []
    },
    {
      "metadata": {
        "id": "4Vt8Lj9wLeWx",
        "colab_type": "text"
      },
      "cell_type": "markdown",
      "source": [
        "***Data Preprocessing Part1***"
      ]
    },
    {
      "metadata": {
        "id": "5-C2-rDwLFn6",
        "colab_type": "code",
        "outputId": "dba2e5fe-0058-48cd-df6b-3f086deb5699",
        "colab": {
          "base_uri": "https://localhost:8080/",
          "height": 35
        }
      },
      "cell_type": "code",
      "source": [
        "df = pd.read_excel('/content/drive/My Drive/Machine_Learning/CSE499VTS/data_test_2.xlsx',sheet_name = \"Device Log Data\",index = False)\n",
        "dt = pd.read_excel('/content/drive/My Drive/Machine_Learning/CSE499VTS/data_test_3.xlsx',sheet_name = \"Device Log Data\",index = False)\n",
        "dk = pd.read_excel('/content/drive/My Drive/Machine_Learning/CSE499VTS/third car.xlsx',sheet_name = \"Device Log Data\",index = False)\n",
        "#dd = pd.read_csv('/content/drive/My Drive/Machine_Learning/CSE499VTS/S_GolayFiltered.csv')\n",
        "print(dk.shape)\n"
      ],
      "execution_count": 0,
      "outputs": [
        {
          "output_type": "stream",
          "text": [
            "(15718, 22)\n"
          ],
          "name": "stdout"
        }
      ]
    },
    {
      "metadata": {
        "id": "Frwi1RUbO57P",
        "colab_type": "code",
        "colab": {}
      },
      "cell_type": "code",
      "source": [
        ""
      ],
      "execution_count": 0,
      "outputs": []
    },
    {
      "metadata": {
        "id": "s0Z5h5pbNoYm",
        "colab_type": "code",
        "colab": {}
      },
      "cell_type": "code",
      "source": [
        "# dv1 = df[['Voltage']]#.astype(float)\n",
        "# dv2 = dt[['Voltage']]#.astype(float)\n",
        "# dv_prime = dv1.append(dv2, ignore_index=True)\n",
        "# #dd = dd[['A']].astype(\"float32\")\n",
        "# #dp.reset_index(drop=True, inplace=True)\n",
        "# df_prime = dv_prime[dv_prime.Voltage > 0]\n",
        "# #sns.distplot( dv_prime,bins=30)\n",
        "# #dv_prime.dtypes\n",
        "\n",
        "# plt.plot(df_prime, label=\"original_Data\")\n",
        "# plt.legend()\n",
        "# df_prime.shape"
      ],
      "execution_count": 0,
      "outputs": []
    },
    {
      "metadata": {
        "id": "G_pEvgb9OdQc",
        "colab_type": "code",
        "colab": {}
      },
      "cell_type": "code",
      "source": [
        "def Zero_noise(df,X):\n",
        "  \n",
        "  da = df[X] == 0\n",
        " \n",
        "  dm = df.copy(deep=True)\n",
        "  dm[da] = None\n",
        "  df = dm[X].iloc[:]\n",
        "  df = pd.DataFrame(df)\n",
        "  ward_list = fill_nans_scipy1(df.values)\n",
        "  ward_list = pd.DataFrame(ward_list)\n",
        "  plt.plot(ward_list)\n",
        "  plt.savefig('/content/drive/My Drive/Machine_Learning/removing zero noise.png')\n",
        "  return ward_list\n",
        "\n",
        "def fill_nans_scipy1(padata, pkind='nearest'):\n",
        "  \n",
        "  aindexes = np.arange(padata.shape[0])          \n",
        "  agood_indexes = np.where(np.isfinite(padata))\n",
        "  b = padata[agood_indexes[0]].squeeze()\n",
        "  a = agood_indexes[0] \n",
        "  f = interp1d(a\n",
        "             , b\n",
        "             , bounds_error=False\n",
        "             , copy=False\n",
        "             , fill_value=\"extrapolate\"\n",
        "             , kind=pkind)\n",
        "  return f(aindexes)"
      ],
      "execution_count": 0,
      "outputs": []
    },
    {
      "metadata": {
        "id": "3T1-7_zlO7PG",
        "colab_type": "code",
        "outputId": "15be54b5-d12f-48bd-9337-893bf7d366ec",
        "colab": {
          "base_uri": "https://localhost:8080/",
          "height": 347
        }
      },
      "cell_type": "code",
      "source": [
        "df = Zero_noise(df,\"fuel_litre\")\n",
        "dt = Zero_noise(dt,\"fuel_litre\")\n",
        "dk = Zero_noise(dk,\"Fuel Information\")"
      ],
      "execution_count": 0,
      "outputs": [
        {
          "output_type": "display_data",
          "data": {
            "image/png": "[encoded data removed]",
            "text/plain": [
              "<Figure size 576x396 with 1 Axes>"
            ]
          },
          "metadata": {
            "tags": []
          }
        }
      ]
    },
    {
      "metadata": {
        "id": "M5WW--dIxYtf",
        "colab_type": "code",
        "colab": {}
      },
      "cell_type": "code",
      "source": [
        ""
      ],
      "execution_count": 0,
      "outputs": []
    },
    {
      "metadata": {
        "id": "E56Bd1N_bA3x",
        "colab_type": "code",
        "colab": {}
      },
      "cell_type": "code",
      "source": [
        "# def preprocess_signal(x):\n",
        "#     return 2 * x - 1.0\n",
        "\n",
        "# def deprocess_signal(x):\n",
        "#     return (x + 1.0) / 2.0"
      ],
      "execution_count": 0,
      "outputs": []
    },
    {
      "metadata": {
        "id": "DS1mW06PRWsX",
        "colab_type": "code",
        "outputId": "dbb44a27-4211-456e-ae57-b9c230dd9a01",
        "colab": {
          "base_uri": "https://localhost:8080/",
          "height": 365
        }
      },
      "cell_type": "code",
      "source": [
        "dp = df[[0]].astype(float)\n",
        "dt = dt[[0]].astype(float)\n",
        "dk = dk[[0]].astype(float)\n",
        "dp = dp.append(dt, ignore_index=True)\n",
        "dp = dp.append(dk,ignore_index=True)\n",
        "#dd = dd[['A']].astype(\"float32\")\n",
        "#dp.reset_index(drop=True, inplace=True)\n",
        "\n",
        "\n",
        "dp.dtypes\n",
        "\n",
        "plt.plot(dp, label=\"original_Data\")\n",
        "plt.legend()\n",
        "dp.shape"
      ],
      "execution_count": 0,
      "outputs": [
        {
          "output_type": "execute_result",
          "data": {
            "text/plain": [
              "(41081, 1)"
            ]
          },
          "metadata": {
            "tags": []
          },
          "execution_count": 6
        },
        {
          "output_type": "display_data",
          "data": {
            "image/png": "[encoded data removed]",
            "text/plain": [
              "<Figure size 576x396 with 1 Axes>"
            ]
          },
          "metadata": {
            "tags": []
          }
        }
      ]
    },
    {
      "metadata": {
        "id": "wTTC2JTVynVU",
        "colab_type": "text"
      },
      "cell_type": "markdown",
      "source": [
        "***Train Test Split***"
      ]
    },
    {
      "metadata": {
        "id": "E6y85FstbLwu",
        "colab_type": "code",
        "outputId": "e4848399-eef1-47fa-bf2c-c64ae6292280",
        "colab": {
          "base_uri": "https://localhost:8080/",
          "height": 35
        }
      },
      "cell_type": "code",
      "source": [
        "\n",
        "X_train, X_test = train_test_split( dp,test_size=0,shuffle = False)\n",
        "\n",
        "#X_train.reset_index(drop=True, inplace=True)\n",
        "#X_test.reset_index(drop = True , inplace = True)\n",
        "\n",
        "#noise_train = np.random.normal(0,5,[22423,1])\n",
        "#noise_train = noise_train + X_train\n",
        "noise_train = X_train\n",
        "#noise_test = np.random.normal(0,10,[2218,1])\n",
        "#noise_test = noise_test + X_test\n",
        "noise_test =  X_test\n",
        "count_row_test = X_test.shape[0]\n",
        "count_row_train = X_train.shape[0]\n",
        "\n",
        "\n",
        "# Create a minimum and maximum processor object\n",
        "min_max_scaler = preprocessing.MinMaxScaler()\n",
        "\n",
        "# Create an object to transform the data to fit minmax processor\n",
        "#x_scaled = min_max_scaler.fit_transform(dp)\n",
        "\n",
        "# Run the normalizer on the dataframe\n",
        "#df_normalized = pd.DataFrame(x_scaled)\n",
        "X_train.shape\n",
        "#plt.plot(X_train, label=\"Train\")\n",
        "#plt.legend()"
      ],
      "execution_count": 0,
      "outputs": [
        {
          "output_type": "execute_result",
          "data": {
            "text/plain": [
              "(41081, 1)"
            ]
          },
          "metadata": {
            "tags": []
          },
          "execution_count": 7
        }
      ]
    },
    {
      "metadata": {
        "id": "7COW0G0d7pET",
        "colab_type": "code",
        "colab": {}
      },
      "cell_type": "code",
      "source": [
        "#X_test = scipy.signal.medfilt(X_test, kernel_size=(3, 1))"
      ],
      "execution_count": 0,
      "outputs": []
    },
    {
      "metadata": {
        "id": "OQKGcfawqMel",
        "colab_type": "code",
        "colab": {}
      },
      "cell_type": "code",
      "source": [
        "#X_test =pd.DataFrame(X_test)  \n",
        "#plt.scatter(X_test[0], X_test.index)"
      ],
      "execution_count": 0,
      "outputs": []
    },
    {
      "metadata": {
        "id": "TQAm_mdvT0uA",
        "colab_type": "code",
        "outputId": "bf28bc51-a629-4777-c81b-3881fb94a576",
        "colab": {
          "base_uri": "https://localhost:8080/",
          "height": 365
        }
      },
      "cell_type": "code",
      "source": [
        "#dt = dp[['fuel_litre']]  \n",
        "\n",
        "plt.plot(X_train)\n",
        "\n"
      ],
      "execution_count": 0,
      "outputs": [
        {
          "output_type": "execute_result",
          "data": {
            "text/plain": [
              "[<matplotlib.lines.Line2D at 0x7f8f4275a400>]"
            ]
          },
          "metadata": {
            "tags": []
          },
          "execution_count": 8
        },
        {
          "output_type": "display_data",
          "data": {
            "image/png": "[encoded data removed]",
            "text/plain": [
              "<Figure size 576x396 with 1 Axes>"
            ]
          },
          "metadata": {
            "tags": []
          }
        }
      ]
    },
    {
      "metadata": {
        "id": "smPySCYEMEDO",
        "colab_type": "code",
        "colab": {}
      },
      "cell_type": "code",
      "source": [
        "#sns.distplot(X_test,bins=30)"
      ],
      "execution_count": 0,
      "outputs": []
    },
    {
      "metadata": {
        "id": "BYBatOTIyR0A",
        "colab_type": "text"
      },
      "cell_type": "markdown",
      "source": [
        "***MinMaxScaler(Data Preprocessing)***"
      ]
    },
    {
      "metadata": {
        "id": "pLLXsGGuup9f",
        "colab_type": "code",
        "colab": {}
      },
      "cell_type": "code",
      "source": [
        "def  minMaxScaler(Df):\n",
        "  # Create a minimum and maximum processor object\n",
        "  min_max_scaler = preprocessing.MinMaxScaler()\n",
        "  x_scaled = min_max_scaler.fit_transform(Df)\n",
        "  df_normalized = pd.DataFrame(x_scaled)\n",
        "  return df_normalized"
      ],
      "execution_count": 0,
      "outputs": []
    },
    {
      "metadata": {
        "id": "lB4twfREX23S",
        "colab_type": "code",
        "colab": {}
      },
      "cell_type": "code",
      "source": [
        "\n",
        "def fill_nans_scipy1(padata, pkind='nearest'):\n",
        "  \n",
        "  aindexes = np.arange(padata.shape[0])          \n",
        "  agood_indexes = np.where(np.isfinite(padata))\n",
        "  b = padata[agood_indexes[0]].squeeze()\n",
        "  a = agood_indexes[0] \n",
        "  f = interp1d(a\n",
        "             , b\n",
        "             , bounds_error=False\n",
        "             , copy=False\n",
        "             , fill_value=\"extrapolate\"\n",
        "             , kind=pkind)\n",
        "  return f(aindexes)"
      ],
      "execution_count": 0,
      "outputs": []
    },
    {
      "metadata": {
        "id": "5sGkYmwUZBc3",
        "colab_type": "code",
        "colab": {}
      },
      "cell_type": "code",
      "source": [
        "def filter(a,window_median,polyorder,window_golay,mode,filters):\n",
        "  \n",
        "  X_med = []\n",
        "  if(filters == \"median\"):\n",
        "    \n",
        "    for i in range(0, a.shape[0]):\n",
        "        X_med.append(a.iloc[i, 0])\n",
        "\n",
        "    X_med = medfilt(X_med,window_median)\n",
        "    X_med = pd.DataFrame(X_med)\n",
        "    plt.figure(1)\n",
        "    plt.subplot(211)\n",
        "    plt.plot(X_med, label='After inter-polation')\n",
        "    \n",
        "  elif(filters == \"sav\"):\n",
        "    \n",
        "    for i in range(0, a.shape[0]):\n",
        "        X_med.append(a.iloc[i, 0])\n",
        "    X_med  = savgol_filter(X_med ,window_length=window_golay,polyorder= polyorder,mode = mode )\n",
        "    plt.subplot(212)\n",
        "    plt.plot(X_med, label='After inter-polation')\n",
        "    X_med = pd.DataFrame(X_med)\n",
        "    \n",
        "  elif(filters == \"both\"):\n",
        "    \n",
        "    for i in range(0, a.shape[0]):\n",
        "       X_med.append(a.iloc[i, 0])\n",
        "        \n",
        "    X_med = medfilt(X_med,window_median)\n",
        "    plt.figure(1)\n",
        "    plt.subplot(211)\n",
        "    plt.plot(X_med, label='After inter-polation')\n",
        "\n",
        "    X_med  = savgol_filter(X_med ,window_length=window_golay,polyorder= polyorder,mode = mode )\n",
        "    plt.subplot(212)\n",
        "    plt.plot(X_med, label='After inter-polation')\n",
        "    X_med = pd.DataFrame(X_med)\n",
        "  \n",
        "  return X_med\n"
      ],
      "execution_count": 0,
      "outputs": []
    },
    {
      "metadata": {
        "id": "bQOp9Kr4xqok",
        "colab_type": "code",
        "colab": {}
      },
      "cell_type": "code",
      "source": [
        "def new_feature_analysis(Volume):\n",
        "  print(Volume.head())\n",
        "  volume_np = [0]\n",
        "  for i in range(Volume.shape[0]-1):\n",
        "        volume_np.append(Volume.iloc[i+1, 0]-Volume.iloc[i, 0])\n",
        "\n",
        "  vol = pd.DataFrame(volume_np)\n",
        "  Volume = Volume.assign(volume  = vol)\n",
        "  plt.figure(figsize=(18,8))\n",
        "  plt.plot(Volume[\"volume\"] , data=df, marker='', color='red', linewidth=2)\n",
        "  plt.plot(Volume[0], marker='', color='black', linewidth=2, label=\"toto\")\n",
        "  return Volume\n"
      ],
      "execution_count": 0,
      "outputs": []
    },
    {
      "metadata": {
        "id": "W43NhwyWY4JH",
        "colab_type": "text"
      },
      "cell_type": "markdown",
      "source": [
        "Clustering"
      ]
    },
    {
      "metadata": {
        "id": "Cf2sZvsBY3TU",
        "colab_type": "code",
        "colab": {}
      },
      "cell_type": "code",
      "source": [
        "\n",
        "\n",
        "def Clustering(Data,batch_size,alpha): \n",
        "  #Hiearchal CLustering\n",
        "  batch_s = batch_size\n",
        "  ward_list = []\n",
        "  label = []\n",
        "  size1 = 0\n",
        "  size2 =  batch_s\n",
        "  mini_batch = int(batch_size/4)              \n",
        "  data = []        \n",
        "  count_row_test = Data.shape[0]\n",
        "  num_batches =int(round(count_row_test/ batch_s)) \n",
        "  for x in range(num_batches):\n",
        "    \n",
        "    batch2 = Data.iloc[size1:size2]\n",
        "    size_new1 = size1\n",
        "    size_new2 = size1+mini_batch\n",
        "    if(batch2.std().values<alpha):\n",
        "      for i in range(4):\n",
        "        batch2 = Data.iloc[size_new1:size_new2]\n",
        "        batch_noise = batch2.values.reshape( batch2.shape[0],1)\n",
        "        #print(\"Compute unstructured hierarchical clustering...\")\n",
        "        if(batch2.shape[0]!=0):\n",
        "          connectivity = kneighbors_graph(batch_noise, n_neighbors=batch2.shape[0]-1, include_self=False)\n",
        "          ward = AgglomerativeClustering(n_clusters=2,connectivity=connectivity, linkage='ward').fit(batch_noise)\n",
        "          ward_list.append(ward)\n",
        "          data.append(batch2.values)\n",
        "          label.append(ward.labels_)         \n",
        "          size_new1 = size_new1+mini_batch\n",
        "          size_new2 = size_new2+mini_batch\n",
        "    else:\n",
        "      batch_noise = batch2.values.reshape( batch2.shape[0],1)\n",
        "      connectivity = kneighbors_graph(batch_noise, n_neighbors=batch2.shape[0]-1, include_self=False)\n",
        "      ward = AgglomerativeClustering(n_clusters=2,connectivity=connectivity, linkage='single').fit(batch_noise)\n",
        "      ward_list.append(ward)\n",
        "      data.append(batch2.values)\n",
        "      label.append(ward.labels_)\n",
        "\n",
        "    #print(\"Elapsed time: %.2fs\" % elapsed_time)\n",
        "    size1 = size1+ batch_s\n",
        "    size2 = size2+ batch_s\n",
        "\n",
        "  #creating dataset\n",
        "  label1 = np.concatenate(np.array( label))\n",
        "  data1 =np.concatenate(np.array( data))\n",
        "  db = pd.DataFrame({ 'labels':label1})\n",
        "  db = db.assign(data = data1)\n",
        "  print(db.shape[0])\n",
        "  da = db['labels'] == 0\n",
        "  dc = db['labels'] == 1\n",
        "\n",
        "\n",
        "  da = db[da] #up\n",
        "  dc = db[dc]\n",
        "\n",
        "  #sns.distplot(da['data'],bins=30)\n",
        "  \n",
        "  #visualization\n",
        "  plt.figure(1)\n",
        "  plt.subplot(211) \n",
        "  plt.plot(da['data'], label='0')\n",
        "  plt.xlabel(\"Data Points\")\n",
        "  plt.ylabel(\"Fuel Information\")\n",
        "  plt.legend()\n",
        "  plt.subplot(212) \n",
        "  plt.plot(dc['data'], label='1')\n",
        "  plt.xlabel(\"Data Points\")\n",
        "  plt.ylabel(\"Fuel Information\")\n",
        "  plt.legend()\n",
        "  \n",
        "  #removing noise\n",
        "  da = db['labels'] == 0\n",
        "  dc = db['labels'] == 1\n",
        "  #dm = db.copy(deep=True)\n",
        "  #dm = dm[da]\n",
        "  #dm = dm.iloc[:,1]\n",
        "  #x = dm.mean()\n",
        "  #print(x)\n",
        "  dm = db.copy(deep=True)\n",
        "  dm[dc] = None\n",
        "  d_test_noise = dm.iloc[:,1]\n",
        "  d_test_noise = pd.DataFrame(d_test_noise)\n",
        "  \n",
        "  #visualization\n",
        "  plt.figure(2)\n",
        "  plt.subplot(211)\n",
        "  plt.plot(d_test_noise, label='After Removing noise')\n",
        "  plt.xlabel(\"Data Points\")\n",
        "  plt.ylabel(\"Fuel Information\")\n",
        "  plt.legend()\n",
        "  \n",
        "  #Getting Indexes for interpolation\n",
        "  a = dm[dc].index.astype(int).values\n",
        "\n",
        "\n",
        "  #plt.plot(d_test_noise, label='0')\n",
        "  #d_test_noise = pd.DataFrame(d_test_noise)\n",
        "\n",
        "  #d_test_noise_norm = minMaxScaler(d_test_noise)\n",
        "  #sns.distplot(d_test_noise_norm,bins=30)\n",
        "  #plt.plot(a, label='0')\n",
        "  d_test_noise = d_test_noise.values\n",
        "\n",
        "#   a =np.where(np.isfinite(d_test_noise))\n",
        "#   a = d_test_noise[a[0]]\n",
        "  \n",
        "  #interpolation\n",
        "  New_test_data = fill_nans_scipy1(d_test_noise)\n",
        "  New_test_data = pd.DataFrame(New_test_data)\n",
        "  plt.subplot(212)\n",
        "  plt.figure(figsize=(18,8))\n",
        "  plt.plot(New_test_data, label='After inter-polation')\n",
        "  plt.xlabel(\"Data Points\")\n",
        "  plt.ylabel(\"Fuel Information\")\n",
        "  plt.legend()\n",
        "  return New_test_data\n",
        "\n"
      ],
      "execution_count": 0,
      "outputs": []
    },
    {
      "metadata": {
        "id": "nyl6z3DCf_TQ",
        "colab_type": "text"
      },
      "cell_type": "markdown",
      "source": [
        "Feature Creation"
      ]
    },
    {
      "metadata": {
        "id": "Ue5p80MoZeEC",
        "colab_type": "code",
        "colab": {}
      },
      "cell_type": "code",
      "source": [
        "# New_feature =  new_feature_analysis(S)"
      ],
      "execution_count": 0,
      "outputs": []
    },
    {
      "metadata": {
        "id": "z543fvT3dwju",
        "colab_type": "code",
        "outputId": "78112909-a92b-4fa5-91af-ec9223177f1b",
        "colab": {
          "base_uri": "https://localhost:8080/",
          "height": 1189
        }
      },
      "cell_type": "code",
      "source": [
        "D = Clustering(X_train,180,2)\n",
        "\n"
      ],
      "execution_count": 0,
      "outputs": [
        {
          "output_type": "stream",
          "text": [
            "41040\n"
          ],
          "name": "stdout"
        },
        {
          "output_type": "display_data",
          "data": {
            "image/png": "[encoded data removed]",
            "text/plain": [
              "<Figure size 576x396 with 2 Axes>"
            ]
          },
          "metadata": {
            "tags": []
          }
        },
        {
          "output_type": "display_data",
          "data": {
            "image/png": "[encoded data removed]",
            "text/plain": [
              "<Figure size 576x396 with 2 Axes>"
            ]
          },
          "metadata": {
            "tags": []
          }
        },
        {
          "output_type": "display_data",
          "data": {
            "image/png": "[encoded data removed]",
            "text/plain": [
              "<Figure size 1296x576 with 1 Axes>"
            ]
          },
          "metadata": {
            "tags": []
          }
        }
      ]
    },
    {
      "metadata": {
        "id": "nZ2sDd-LybCp",
        "colab_type": "code",
        "outputId": "6958caff-f9e6-4cff-aab4-c32afec4a7df",
        "colab": {
          "base_uri": "https://localhost:8080/",
          "height": 593
        }
      },
      "cell_type": "code",
      "source": [
        "Volume_train =  new_feature_analysis(D)"
      ],
      "execution_count": 0,
      "outputs": [
        {
          "output_type": "stream",
          "text": [
            "           0\n",
            "0  35.651001\n",
            "1  35.651001\n",
            "2  35.651001\n",
            "3  35.651001\n",
            "4  35.651001\n"
          ],
          "name": "stdout"
        },
        {
          "output_type": "display_data",
          "data": {
            "image/png": "[encoded data removed]",
            "text/plain": [
              "<Figure size 1296x576 with 1 Axes>"
            ]
          },
          "metadata": {
            "tags": []
          }
        }
      ]
    },
    {
      "metadata": {
        "id": "hVos6j7B2fhX",
        "colab_type": "code",
        "colab": {}
      },
      "cell_type": "code",
      "source": [
        ""
      ],
      "execution_count": 0,
      "outputs": []
    },
    {
      "metadata": {
        "id": "rayqkSjFamKu",
        "colab_type": "code",
        "outputId": "464a6e5e-9738-4f09-a209-d6481acb472f",
        "colab": {
          "base_uri": "https://localhost:8080/",
          "height": 744
        }
      },
      "cell_type": "code",
      "source": [
        "D_train1 = filter(D[0:2400],window_median = 1001 ,polyorder = 1,window_golay = 1001,mode = \"interp\",filters = \"median\")\n",
        "D_train2 = D[2400:3150]\n",
        "D_train3 = filter(D[3150:7500],window_median = 1001 ,polyorder = 1,window_golay = 1001,mode = \"interp\",filters = \"median\")\n",
        "D_train4 = D[7500:8500]\n",
        "D_train5 = filter(D[8500:11000],window_median = 1001 ,polyorder = 1,window_golay = 1001,mode = \"interp\",filters = \"median\")\n",
        "D_train6 = D[11000:11600]\n",
        "D_train7 = filter(D[11600:14000],window_median = 1001 ,polyorder = 1,window_golay = 1001,mode = \"interp\",filters = \"median\")\n",
        "D_train9 = D[14000:14500]\n",
        "D_train10 = filter(D[14500:18459],window_median = 1001 ,polyorder = 1,window_golay = 1001,mode = \"interp\",filters = \"median\")\n",
        "D_train11 = D[18459:19000]\n",
        "D_train12 = filter(D[19000:21500],window_median = 1001 ,polyorder = 1,window_golay = 1001,mode = \"interp\",filters = \"median\")\n",
        "D_train13 = D[21500:22200]\n",
        "D_train14 = filter(D[22200:25100],window_median = 1001 ,polyorder = 1,window_golay = 1001,mode = \"interp\",filters = \"median\")\n",
        "D_train15 = D[25100:25500]\n",
        "D_train16 = filter(D[25500:26001],window_median = 401 ,polyorder = 1,window_golay = 401,mode = \"interp\",filters = \"median\")\n",
        "D_train17 = D[26001:26501]\n",
        "D_train18 = filter(D[26501:27501],window_median = 401 ,polyorder = 1,window_golay = 401,mode = \"interp\",filters = \"median\")\n",
        "D_train19 = D[27501:28001]\n",
        "D_train20 = filter(D[28001:29001],window_median = 401 ,polyorder = 1,window_golay = 401,mode = \"interp\",filters = \"median\")\n",
        "D_train21 = D[29001:29501]\n",
        "D_train22 = filter(D[29501:31300],window_median = 401 ,polyorder = 1,window_golay = 401,mode = \"interp\",filters = \"median\")\n",
        "D_train23 = D[31300:31600]\n",
        "D_train24 = filter(D[31600:34201],window_median = 401 ,polyorder = 1,window_golay = 401,mode = \"interp\",filters = \"median\")\n",
        "D_train25 = D[34201:36201]\n",
        "D_train26 = filter(D[36201:37201],window_median = 401 ,polyorder = 1,window_golay = 501,mode = \"interp\",filters = \"median\")\n",
        "D_train27 = D[37201:37800]\n",
        "D_train28 = filter(D[37800:38600],window_median = 401 ,polyorder = 1,window_golay = 501,mode = \"interp\",filters = \"median\")\n",
        "D_train29 = D[38600:39500]\n",
        "D_train30 = filter(D[39500:41040],window_median = 401 ,polyorder = 1,window_golay = 501,mode = \"interp\",filters = \"median\")\n",
        "D_list = [D_train1,D_train2,D_train3,D_train4,D_train5,D_train6,D_train7,D_train9,D_train10,D_train11,D_train12,D_train13,D_train14,D_train15,D_train16,D_train17,D_train18,D_train19,D_train20,D_train21,D_train22,D_train23,D_train24,D_train25,D_train26,D_train27,D_train28,D_train29,D_train30 ]\n",
        "\n",
        "D_train_final = pd.DataFrame()\n",
        "for x in range(len(D_list)):\n",
        "  \n",
        "  D_train_final = D_train_final.append(D_list[x], ignore_index=True)\n",
        "plt.figure(figsize=(18,8))\n",
        "plt.plot(D_train_final)\n",
        "D_train_final.shape"
      ],
      "execution_count": 0,
      "outputs": [
        {
          "output_type": "stream",
          "text": [
            "/usr/local/lib/python3.6/dist-packages/matplotlib/figure.py:98: MatplotlibDeprecationWarning: \n",
            "Adding an axes using the same arguments as a previous axes currently reuses the earlier instance.  In a future version, a new instance will always be created and returned.  Meanwhile, this warning can be suppressed, and the future behavior ensured, by passing a unique label to each axes instance.\n",
            "  \"Adding an axes using the same arguments as a previous axes \"\n"
          ],
          "name": "stderr"
        },
        {
          "output_type": "execute_result",
          "data": {
            "text/plain": [
              "(41040, 1)"
            ]
          },
          "metadata": {
            "tags": []
          },
          "execution_count": 22
        },
        {
          "output_type": "display_data",
          "data": {
            "image/png": "[encoded data removed]",
            "text/plain": [
              "<Figure size 576x396 with 1 Axes>"
            ]
          },
          "metadata": {
            "tags": []
          }
        },
        {
          "output_type": "display_data",
          "data": {
            "image/png": "[encoded data removed]",
            "text/plain": [
              "<Figure size 1296x576 with 1 Axes>"
            ]
          },
          "metadata": {
            "tags": []
          }
        }
      ]
    },
    {
      "metadata": {
        "id": "LCZni-E3Ek8N",
        "colab_type": "code",
        "colab": {}
      },
      "cell_type": "code",
      "source": [
        "#D_train_final =  new_feature_analysis(D_train_final)"
      ],
      "execution_count": 0,
      "outputs": []
    },
    {
      "metadata": {
        "id": "35tJ-pszib3z",
        "colab_type": "code",
        "colab": {}
      },
      "cell_type": "code",
      "source": [
        "D2 = minMaxScaler(Volume_train)\n",
        "D3 = minMaxScaler(D_train_final)"
      ],
      "execution_count": 0,
      "outputs": []
    },
    {
      "metadata": {
        "id": "3KUJwhpSw-9a",
        "colab_type": "text"
      },
      "cell_type": "markdown",
      "source": [
        "***Data Preprocessing Part 2***"
      ]
    },
    {
      "metadata": {
        "id": "c9WSC0qHSsnW",
        "colab_type": "code",
        "colab": {}
      },
      "cell_type": "code",
      "source": [
        "def data_preprocessing_train(train,test,timestamp,feature,parallel_processing):\n",
        "  \n",
        "  X_train =[]\n",
        "  y_fet1 = []\n",
        "  y_test = []\n",
        "  \n",
        "\n",
        "  \n",
        "  for i in range(timestamp,test.shape[0]-parallel_processing):\n",
        "     y_fet1.append(train.iloc[i-timestamp:i,0:2].values)  \n",
        "     y_test.append(test.iloc[i-timestamp,0])    \n",
        "  y_fet1 ,y_test = np.array(y_fet1),np.array(y_test)\n",
        "  X_train = np.reshape(y_fet1, (y_fet1.shape[0], y_fet1.shape[1], feature))\n",
        "  print(X_train.shape)\n",
        "  print(y_test.shape)\n",
        "  return  X_train,y_test\n",
        "\n",
        "def data_preprocessing_train_autoencoder(train,test,timestamp,feature,parallel_processing):\n",
        "  \n",
        "  X_train =[]\n",
        "  y_fet1 = []\n",
        "  y_test = []\n",
        "  \n",
        "\n",
        "  \n",
        "  for i in range(timestamp,test.shape[0]-parallel_processing):\n",
        "     y_fet1.append(train.iloc[i-timestamp:i,0:2].values)  \n",
        "     y_test.append(test.iloc[i-timestamp:i,0:1].values)    \n",
        "  y_fet1 ,y_test = np.array(y_fet1),np.array(y_test)\n",
        "  X_train = np.reshape(y_fet1, (y_fet1.shape[0], y_fet1.shape[1], feature))\n",
        "  y_test = np.reshape(y_test, (y_test.shape[0], y_test.shape[1], 1))\n",
        "  print(X_train.shape)\n",
        "  print(y_test.shape)\n",
        "  return  X_train,y_test\n",
        "\n",
        "def data_preprocessing_predict(data1,timestamp,feature):\n",
        "  y_fet1 = []\n",
        "  inputs = []\n",
        "  for i in range(timestamp,data1.shape[0]-57):\n",
        "     y_fet1.append(data1.iloc[i-timestamp:i,0:2].values) \n",
        "  y_fet1   = np.array(y_fet1)\n",
        "  inputs = np.reshape(y_fet1, (y_fet1.shape[0], y_fet1.shape[1], feature))\n",
        "  print(inputs.shape)\n",
        "  return  inputs\n"
      ],
      "execution_count": 0,
      "outputs": []
    },
    {
      "metadata": {
        "id": "VRe0Zvm5QLzy",
        "colab_type": "code",
        "colab": {}
      },
      "cell_type": "code",
      "source": [
        "def LSTM_Fit_denoise(X_tobe_trained,y_tobe_predicted,nb_epoch,batch_size,timestamp,data_size):\n",
        "  \n",
        "\n",
        "  regressor = Sequential()\n",
        "  regressor.add(LSTM(units = 60,return_sequences=True, batch_input_shape = (batch_size,timestamp ,X_tobe_trained.shape[2])))\n",
        "  regressor.add(Bidirectional(LSTM(30,activation='tanh',recurrent_dropout= 0.4)))\n",
        "  regressor.add(RepeatVector(timestamp))\n",
        "  regressor.add(Bidirectional(LSTM(30,return_sequences=True,recurrent_dropout= 0.4)))\n",
        "  regressor.add(LSTM(60,return_sequences=True))\n",
        "  regressor.add(TimeDistributed(Dense(units = 1,activation='tanh')))\n",
        "\n",
        "  \n",
        "  regressor.compile(optimizer =tf.train.RMSPropOptimizer(learning_rate=0.001),loss = \"mean_squared_error\")\n",
        "  \n",
        "  TPU_WORKER = 'grpc://' + os.environ['COLAB_TPU_ADDR']\n",
        "  tf.logging.set_verbosity(tf.logging.INFO)\n",
        "  regressor = tf.contrib.tpu.keras_to_tpu_model(regressor,strategy=tf.contrib.tpu.TPUDistributionStrategy(tf.contrib.cluster_resolver.TPUClusterResolver(TPU_WORKER)))\n",
        "  \n",
        "  tbCallBack = TensorBoard(log_dir='./log',\n",
        "                         write_graph=True,\n",
        "                         write_grads=True,\n",
        "                         batch_size=data_size)\n",
        "  \n",
        "#   for i in range(nb_epoch):\n",
        "#     print(\"epoch: \",i)\n",
        "#     x = 0\n",
        "#     y = data_size\n",
        "#     for d in range(int(len(X_tobe_trained)/data_size)):\n",
        "      \n",
        "  regressor.fit(X_tobe_trained,y_tobe_predicted,epochs=nb_epoch,batch_size = batch_size ,shuffle = False,callbacks=[tbCallBack])\n",
        "      #test_rmse.append(evaluate(regressor, test_tobe_predicted_unscaled ,test_tobe_predicted_scaled,Test_non_scaled_predict,batch_size))\n",
        "#       y = y + data_size\n",
        "#       x = x + data_size\n",
        "      #history = pd.DataFrame()\n",
        "      #history['test'] = test_rmse \n",
        "\n",
        "  return regressor"
      ],
      "execution_count": 0,
      "outputs": []
    },
    {
      "metadata": {
        "id": "Y2QvpQjvQJS-",
        "colab_type": "code",
        "colab": {}
      },
      "cell_type": "code",
      "source": [
        "def evaluate(model,non_scaled_test,scaled_test,tobe_predicted,batch_size):\n",
        "   \n",
        "  min_max_scaler.fit(non_scaled_test)\n",
        "\n",
        "  predict = model.predict(scaled_test,batch_size)\n",
        "  predict1 = min_max_scaler.inverse_transform(predict)\n",
        "  rmse = math.sqrt(mean_squared_error(tobe_predicted[0:], predict1[0:]))\n",
        "  return rmse"
      ],
      "execution_count": 0,
      "outputs": []
    },
    {
      "metadata": {
        "id": "-feM8ZhwQ8TF",
        "colab_type": "code",
        "colab": {}
      },
      "cell_type": "code",
      "source": [
        "def predict(model,non_scaled_pre,scaled_pre,batch_size):\n",
        "  \n",
        "  min_max_scaler.fit(non_scaled_pre)\n",
        "  \n",
        "\n",
        "  predict = model.predict(scaled_pre,batch_size)\n",
        "  predict1 = min_max_scaler.inverse_transform(predict)\n",
        "  plt.figure(1)\n",
        "  plt.subplot(211)\n",
        "  plt.plot(non_scaled_pre, label='Noisy')\n",
        "  plt.subplot(212)\n",
        "  plt.plot(predict1, label='Denoised')\n",
        "  plt.xlabel(\"datapoints\")\n",
        "  plt.ylabel(\"Fuel Information\")\n",
        "  plt.legend()\n",
        "  predict1 = pd.DataFrame( predict1)\n",
        "  return predict1\n",
        "  \n",
        "  "
      ],
      "execution_count": 0,
      "outputs": []
    },
    {
      "metadata": {
        "id": "dhHZueSAZMzO",
        "colab_type": "code",
        "colab": {}
      },
      "cell_type": "code",
      "source": [
        "def model_loss_accuracy(model,epoch,timestamp,recurrent):\n",
        "  # summarize history for loss\n",
        "  plt.plot(model.history.history['loss'])\n",
        "  plt.title('model loss')\n",
        "  plt.ylabel('loss')\n",
        "  plt.xlabel('epoch')\n",
        "  plt.legend(['train', 'test'], loc='upper left')\n"
      ],
      "execution_count": 0,
      "outputs": []
    },
    {
      "metadata": {
        "id": "pbc8M7dzQPIz",
        "colab_type": "code",
        "colab": {}
      },
      "cell_type": "code",
      "source": [
        "# Train,Label = data_preprocessing_train(D2,D3,60,2)\n",
        "\n"
      ],
      "execution_count": 0,
      "outputs": []
    },
    {
      "metadata": {
        "id": "cfAZLDeaY22K",
        "colab_type": "code",
        "colab": {}
      },
      "cell_type": "code",
      "source": [
        "# Test_non_scaled = S[0:4800]\n",
        "# Test_non_scaled_predict = S_test_final\n",
        "# Test_scaled = data_preprocessing_predict(minMaxScaler(New_feature),60,2)\n"
      ],
      "execution_count": 0,
      "outputs": []
    },
    {
      "metadata": {
        "id": "_Z21b983A_Za",
        "colab_type": "code",
        "colab": {}
      },
      "cell_type": "code",
      "source": [
        "# def making_train_test_for_ml(Train_set,Correct_train_set,features,Test_non_scaled_first_column,Test_non_scaled_predict1,Test_scaled_for_prediction):\n",
        "#   Train,Label = data_preprocessing_train(Train_set,Correct_train_set,72,features)\n",
        "#   Test_non_scaled = Test_non_scaled_first_column\n",
        "#   Test_non_scaled_predict = Test_non_scaled_predict1\n",
        "#   Test_scaled = data_preprocessing_predict(minMaxScaler(Test_scaled_for_prediction),72,features)\n",
        "  \n",
        "#   return  Train,Label,Test_non_scaled,Test_non_scaled_predict,Test_scaled "
      ],
      "execution_count": 0,
      "outputs": []
    },
    {
      "metadata": {
        "id": "1aALPEngCghs",
        "colab_type": "code",
        "colab": {}
      },
      "cell_type": "code",
      "source": [
        "# Train,Label,Test_non_scaled,Test_non_scaled_predict,Test_scaled = making_train_test_for_ml(D2,D3,2,S[0:4800],S_test_final,New_feature)\n"
      ],
      "execution_count": 0,
      "outputs": []
    },
    {
      "metadata": {
        "id": "H8Tx5GzS_7RI",
        "colab_type": "code",
        "colab": {}
      },
      "cell_type": "code",
      "source": [
        "def making_train_test_for_ml(Train_set,Correct_train_set,timestamp,features,parallel_processing):\n",
        "  Train,Label = data_preprocessing_train_autoencoder(Train_set,Correct_train_set,timestamp,features,parallel_processing)\n",
        "\n",
        "  \n",
        "  return  Train,Label"
      ],
      "execution_count": 0,
      "outputs": []
    },
    {
      "metadata": {
        "id": "EQ2ceN-vAddQ",
        "colab_type": "code",
        "outputId": "f9e42088-46a0-46a9-a1a9-fcf7b8e6ed00",
        "colab": {
          "base_uri": "https://localhost:8080/",
          "height": 54
        }
      },
      "cell_type": "code",
      "source": [
        "Train,Label = making_train_test_for_ml(D2,D3,60,2,84)"
      ],
      "execution_count": 0,
      "outputs": [
        {
          "output_type": "stream",
          "text": [
            "(40896, 60, 2)\n",
            "(40896, 60, 1)\n"
          ],
          "name": "stdout"
        }
      ]
    },
    {
      "metadata": {
        "id": "Jw6duBSyW148",
        "colab_type": "code",
        "outputId": "c31f2b0a-4a0d-4efb-adf1-2d10a7f415ca",
        "colab": {
          "base_uri": "https://localhost:8080/",
          "height": 7837
        }
      },
      "cell_type": "code",
      "source": [
        "\n",
        "n_batch = 96*8\n",
        "n_epochs =200\n",
        "timestamp = 60\n",
        "#for i in range(repeats):\n",
        "model = LSTM_Fit_denoise( Train, Label, n_epochs, n_batch,timestamp,96)\n",
        "\t\t#pyplot.plot(history['train'], color='blue')\n",
        "#plt.plot(history['test'], color='orange')\n",
        "\t\t#print('%d), TestRMSE=%f' % (i, history['test'].iloc[-1]))\n",
        "#plt.savefig('/content/drive/My Drive/Machine_Learning/CSE499VTS/epochs_diagnostic.png')\n",
        "\n",
        "  "
      ],
      "execution_count": 0,
      "outputs": [
        {
          "output_type": "stream",
          "text": [
            "INFO:tensorflow:Querying Tensorflow master (b'grpc://10.88.201.250:8470') for TPU system metadata.\n",
            "INFO:tensorflow:Found TPU system:\n",
            "INFO:tensorflow:*** Num TPU Cores: 8\n",
            "INFO:tensorflow:*** Num TPU Workers: 1\n",
            "INFO:tensorflow:*** Num TPU Cores Per Worker: 8\n",
            "INFO:tensorflow:*** Available Device: _DeviceAttributes(/job:worker/replica:0/task:0/device:CPU:0, CPU, -1, 10331057041611189176)\n",
            "INFO:tensorflow:*** Available Device: _DeviceAttributes(/job:worker/replica:0/task:0/device:XLA_CPU:0, XLA_CPU, 17179869184, 5799056560132299252)\n",
            "INFO:tensorflow:*** Available Device: _DeviceAttributes(/job:worker/replica:0/task:0/device:XLA_GPU:0, XLA_GPU, 17179869184, 17794489351421070431)\n",
            "INFO:tensorflow:*** Available Device: _DeviceAttributes(/job:worker/replica:0/task:0/device:TPU:0, TPU, 17179869184, 6177060693399855640)\n",
            "INFO:tensorflow:*** Available Device: _DeviceAttributes(/job:worker/replica:0/task:0/device:TPU:1, TPU, 17179869184, 8867367928484464865)\n",
            "INFO:tensorflow:*** Available Device: _DeviceAttributes(/job:worker/replica:0/task:0/device:TPU:2, TPU, 17179869184, 8652595125175059015)\n",
            "INFO:tensorflow:*** Available Device: _DeviceAttributes(/job:worker/replica:0/task:0/device:TPU:3, TPU, 17179869184, 5174018925535530106)\n",
            "INFO:tensorflow:*** Available Device: _DeviceAttributes(/job:worker/replica:0/task:0/device:TPU:4, TPU, 17179869184, 11227143575391839122)\n",
            "INFO:tensorflow:*** Available Device: _DeviceAttributes(/job:worker/replica:0/task:0/device:TPU:5, TPU, 17179869184, 11204158814904582647)\n",
            "INFO:tensorflow:*** Available Device: _DeviceAttributes(/job:worker/replica:0/task:0/device:TPU:6, TPU, 17179869184, 9665026184065337265)\n",
            "INFO:tensorflow:*** Available Device: _DeviceAttributes(/job:worker/replica:0/task:0/device:TPU:7, TPU, 17179869184, 4121386690374908496)\n",
            "INFO:tensorflow:*** Available Device: _DeviceAttributes(/job:worker/replica:0/task:0/device:TPU_SYSTEM:0, TPU_SYSTEM, 17179869184, 1037457343301028471)\n",
            "WARNING:tensorflow:tpu_model (from tensorflow.contrib.tpu.python.tpu.keras_support) is experimental and may change or be removed at any time, and without warning.\n",
            "Epoch 1/200\n",
            "INFO:tensorflow:New input shapes; (re-)compiling: mode=train (# of cores 8), [TensorSpec(shape=(96,), dtype=tf.int32, name='core_id0'), TensorSpec(shape=(96, 60, 2), dtype=tf.float32, name='lstm_input_10'), TensorSpec(shape=(96, 60, 1), dtype=tf.float32, name='time_distributed_target_30')]\n",
            "INFO:tensorflow:Overriding default placeholder.\n",
            "INFO:tensorflow:Remapping placeholder for lstm_input\n",
            "INFO:tensorflow:Started compiling\n",
            "INFO:tensorflow:Finished compiling. Time elapsed: 12.124574899673462 secs\n",
            "INFO:tensorflow:Setting weights on TPU model.\n",
            "39936/40896 [============================>.] - ETA: 0s - loss: 0.2556INFO:tensorflow:New input shapes; (re-)compiling: mode=train (# of cores 8), [TensorSpec(shape=(24,), dtype=tf.int32, name='core_id0'), TensorSpec(shape=(24, 60, 2), dtype=tf.float32, name='lstm_input_10'), TensorSpec(shape=(24, 60, 1), dtype=tf.float32, name='time_distributed_target_30')]\n",
            "INFO:tensorflow:Overriding default placeholder.\n",
            "INFO:tensorflow:Remapping placeholder for lstm_input\n",
            "INFO:tensorflow:Started compiling\n",
            "INFO:tensorflow:Finished compiling. Time elapsed: 17.596160411834717 secs\n",
            "40896/40896 [==============================] - 82s 2ms/step - loss: 0.2503\n",
            "Epoch 2/200\n",
            "40896/40896 [==============================] - 4s 103us/step - loss: 0.0398\n",
            "Epoch 3/200\n",
            "40896/40896 [==============================] - 4s 101us/step - loss: 0.0226\n",
            "Epoch 4/200\n",
            "40896/40896 [==============================] - 4s 101us/step - loss: 0.0137\n",
            "Epoch 5/200\n",
            "40896/40896 [==============================] - 4s 100us/step - loss: 0.0105\n",
            "Epoch 6/200\n",
            "40896/40896 [==============================] - 4s 102us/step - loss: 0.0094\n",
            "Epoch 7/200\n",
            "40896/40896 [==============================] - 4s 101us/step - loss: 0.0079\n",
            "Epoch 8/200\n",
            "40896/40896 [==============================] - 4s 102us/step - loss: 0.0075\n",
            "Epoch 9/200\n",
            "40896/40896 [==============================] - 4s 102us/step - loss: 0.0071\n",
            "Epoch 10/200\n",
            "40896/40896 [==============================] - 4s 101us/step - loss: 0.0067\n",
            "Epoch 11/200\n",
            "40896/40896 [==============================] - 4s 104us/step - loss: 0.0064\n",
            "Epoch 12/200\n",
            "40896/40896 [==============================] - 4s 105us/step - loss: 0.0062\n",
            "Epoch 13/200\n",
            "40896/40896 [==============================] - 4s 104us/step - loss: 0.0060\n",
            "Epoch 14/200\n",
            "40896/40896 [==============================] - 4s 100us/step - loss: 0.0059\n",
            "Epoch 15/200\n",
            "40896/40896 [==============================] - 4s 102us/step - loss: 0.0057\n",
            "Epoch 16/200\n",
            "40896/40896 [==============================] - 4s 102us/step - loss: 0.0056\n",
            "Epoch 17/200\n",
            "40896/40896 [==============================] - 4s 103us/step - loss: 0.0056\n",
            "Epoch 18/200\n",
            "40896/40896 [==============================] - 4s 102us/step - loss: 0.0054\n",
            "Epoch 19/200\n",
            "40896/40896 [==============================] - 4s 102us/step - loss: 0.0053\n",
            "Epoch 20/200\n",
            "40896/40896 [==============================] - 4s 100us/step - loss: 0.0054\n",
            "Epoch 21/200\n",
            "40896/40896 [==============================] - 4s 100us/step - loss: 0.0052\n",
            "Epoch 22/200\n",
            "40896/40896 [==============================] - 4s 101us/step - loss: 0.0053\n",
            "Epoch 23/200\n",
            "40896/40896 [==============================] - 4s 102us/step - loss: 0.0050\n",
            "Epoch 24/200\n",
            "40896/40896 [==============================] - 4s 101us/step - loss: 0.0050\n",
            "Epoch 25/200\n",
            "40896/40896 [==============================] - 4s 101us/step - loss: 0.0051\n",
            "Epoch 26/200\n",
            "40896/40896 [==============================] - 4s 102us/step - loss: 0.0051\n",
            "Epoch 27/200\n",
            "40896/40896 [==============================] - 4s 100us/step - loss: 0.0049\n",
            "Epoch 28/200\n",
            "40896/40896 [==============================] - 4s 100us/step - loss: 0.0049\n",
            "Epoch 29/200\n",
            "40896/40896 [==============================] - 4s 102us/step - loss: 0.0048\n",
            "Epoch 30/200\n",
            "40896/40896 [==============================] - 4s 100us/step - loss: 0.0049\n",
            "Epoch 31/200\n",
            "40896/40896 [==============================] - 4s 98us/step - loss: 0.0049\n",
            "Epoch 32/200\n",
            "40896/40896 [==============================] - 4s 98us/step - loss: 0.0047\n",
            "Epoch 33/200\n",
            "40896/40896 [==============================] - 4s 98us/step - loss: 0.0048\n",
            "Epoch 34/200\n",
            "40896/40896 [==============================] - 4s 99us/step - loss: 0.0048\n",
            "Epoch 35/200\n",
            "40896/40896 [==============================] - 4s 100us/step - loss: 0.0047\n",
            "Epoch 36/200\n",
            "40896/40896 [==============================] - 4s 100us/step - loss: 0.0046\n",
            "Epoch 37/200\n",
            "40896/40896 [==============================] - 4s 101us/step - loss: 0.0047\n",
            "Epoch 38/200\n",
            "40896/40896 [==============================] - 4s 102us/step - loss: 0.0046\n",
            "Epoch 39/200\n",
            "40896/40896 [==============================] - 4s 101us/step - loss: 0.0046\n",
            "Epoch 40/200\n",
            "40896/40896 [==============================] - 4s 99us/step - loss: 0.0046\n",
            "Epoch 41/200\n",
            "40896/40896 [==============================] - 4s 104us/step - loss: 0.0046\n",
            "Epoch 42/200\n",
            "40896/40896 [==============================] - 4s 101us/step - loss: 0.0046\n",
            "Epoch 43/200\n",
            "40896/40896 [==============================] - 4s 101us/step - loss: 0.0046\n",
            "Epoch 44/200\n",
            "40896/40896 [==============================] - 4s 101us/step - loss: 0.0046\n",
            "Epoch 45/200\n",
            "40896/40896 [==============================] - 4s 100us/step - loss: 0.0045\n",
            "Epoch 46/200\n",
            "40896/40896 [==============================] - 4s 101us/step - loss: 0.0046\n",
            "Epoch 47/200\n",
            "40896/40896 [==============================] - 4s 101us/step - loss: 0.0044\n",
            "Epoch 48/200\n",
            "40896/40896 [==============================] - 4s 102us/step - loss: 0.0045\n",
            "Epoch 49/200\n",
            "40896/40896 [==============================] - 4s 102us/step - loss: 0.0046\n",
            "Epoch 50/200\n",
            "40896/40896 [==============================] - 4s 102us/step - loss: 0.0044\n",
            "Epoch 51/200\n",
            "40896/40896 [==============================] - 4s 99us/step - loss: 0.0045\n",
            "Epoch 52/200\n",
            "40896/40896 [==============================] - 4s 97us/step - loss: 0.0044\n",
            "Epoch 53/200\n",
            "40896/40896 [==============================] - 4s 101us/step - loss: 0.0045\n",
            "Epoch 54/200\n",
            "40896/40896 [==============================] - 4s 100us/step - loss: 0.0044\n",
            "Epoch 55/200\n",
            "40896/40896 [==============================] - 4s 101us/step - loss: 0.0044\n",
            "Epoch 56/200\n",
            "40896/40896 [==============================] - 4s 102us/step - loss: 0.0044\n",
            "Epoch 57/200\n",
            "40896/40896 [==============================] - 4s 100us/step - loss: 0.0043\n",
            "Epoch 58/200\n",
            "40896/40896 [==============================] - 4s 100us/step - loss: 0.0044\n",
            "Epoch 59/200\n",
            "40896/40896 [==============================] - 4s 101us/step - loss: 0.0044\n",
            "Epoch 60/200\n",
            "40896/40896 [==============================] - 4s 100us/step - loss: 0.0044\n",
            "Epoch 61/200\n",
            "40896/40896 [==============================] - 4s 101us/step - loss: 0.0043\n",
            "Epoch 62/200\n",
            "40896/40896 [==============================] - 4s 101us/step - loss: 0.0043\n",
            "Epoch 63/200\n",
            "40896/40896 [==============================] - 4s 101us/step - loss: 0.0044\n",
            "Epoch 64/200\n",
            "40896/40896 [==============================] - 4s 101us/step - loss: 0.0043\n",
            "Epoch 65/200\n",
            "40896/40896 [==============================] - 4s 101us/step - loss: 0.0044\n",
            "Epoch 66/200\n",
            "40896/40896 [==============================] - 4s 102us/step - loss: 0.0043\n",
            "Epoch 67/200\n",
            "40896/40896 [==============================] - 4s 101us/step - loss: 0.0043\n",
            "Epoch 68/200\n",
            "40896/40896 [==============================] - 4s 101us/step - loss: 0.0042\n",
            "Epoch 69/200\n",
            "40896/40896 [==============================] - 4s 101us/step - loss: 0.0043\n",
            "Epoch 70/200\n",
            "40896/40896 [==============================] - 4s 100us/step - loss: 0.0043\n",
            "Epoch 71/200\n",
            "40896/40896 [==============================] - 4s 99us/step - loss: 0.0043\n",
            "Epoch 72/200\n",
            "40896/40896 [==============================] - 4s 99us/step - loss: 0.0043\n",
            "Epoch 73/200\n",
            "40896/40896 [==============================] - 4s 101us/step - loss: 0.0042\n",
            "Epoch 74/200\n",
            "40896/40896 [==============================] - 4s 101us/step - loss: 0.0043\n",
            "Epoch 75/200\n",
            "40896/40896 [==============================] - 4s 101us/step - loss: 0.0042\n",
            "Epoch 76/200\n",
            "40896/40896 [==============================] - 4s 101us/step - loss: 0.0043\n",
            "Epoch 77/200\n",
            "40896/40896 [==============================] - 4s 101us/step - loss: 0.0043\n",
            "Epoch 78/200\n",
            "40896/40896 [==============================] - 4s 101us/step - loss: 0.0042\n",
            "Epoch 79/200\n",
            "40896/40896 [==============================] - 4s 100us/step - loss: 0.0043\n",
            "Epoch 80/200\n",
            "40896/40896 [==============================] - 4s 100us/step - loss: 0.0042\n",
            "Epoch 81/200\n",
            "40896/40896 [==============================] - 4s 101us/step - loss: 0.0042\n",
            "Epoch 82/200\n",
            "40896/40896 [==============================] - 4s 101us/step - loss: 0.0042\n",
            "Epoch 83/200\n",
            "40896/40896 [==============================] - 4s 100us/step - loss: 0.0043\n",
            "Epoch 84/200\n",
            "40896/40896 [==============================] - 4s 101us/step - loss: 0.0042\n",
            "Epoch 85/200\n",
            "40896/40896 [==============================] - 4s 100us/step - loss: 0.0042\n",
            "Epoch 86/200\n",
            "40896/40896 [==============================] - 4s 103us/step - loss: 0.0042\n",
            "Epoch 87/200\n",
            "40896/40896 [==============================] - 4s 104us/step - loss: 0.0042\n",
            "Epoch 88/200\n",
            "40896/40896 [==============================] - 4s 103us/step - loss: 0.0042\n",
            "Epoch 89/200\n",
            "40896/40896 [==============================] - 4s 101us/step - loss: 0.0042\n",
            "Epoch 90/200\n",
            "40896/40896 [==============================] - 4s 99us/step - loss: 0.0042\n",
            "Epoch 91/200\n",
            "40896/40896 [==============================] - 4s 99us/step - loss: 0.0042\n",
            "Epoch 92/200\n",
            "40896/40896 [==============================] - 4s 100us/step - loss: 0.0042\n",
            "Epoch 93/200\n",
            "40896/40896 [==============================] - 4s 101us/step - loss: 0.0041\n",
            "Epoch 94/200\n",
            "40896/40896 [==============================] - 4s 101us/step - loss: 0.0042\n",
            "Epoch 95/200\n",
            "40896/40896 [==============================] - 4s 100us/step - loss: 0.0041\n",
            "Epoch 96/200\n",
            "40896/40896 [==============================] - 4s 100us/step - loss: 0.0042\n",
            "Epoch 97/200\n",
            "40896/40896 [==============================] - 4s 99us/step - loss: 0.0042\n",
            "Epoch 98/200\n",
            "40896/40896 [==============================] - 4s 100us/step - loss: 0.0041\n",
            "Epoch 99/200\n",
            "40896/40896 [==============================] - 4s 101us/step - loss: 0.0042\n",
            "Epoch 100/200\n",
            "40896/40896 [==============================] - 4s 102us/step - loss: 0.0041\n",
            "Epoch 101/200\n",
            "40896/40896 [==============================] - 4s 101us/step - loss: 0.0041\n",
            "Epoch 102/200\n",
            "40896/40896 [==============================] - 4s 101us/step - loss: 0.0042\n",
            "Epoch 103/200\n",
            "40896/40896 [==============================] - 4s 102us/step - loss: 0.0042\n",
            "Epoch 104/200\n",
            "40896/40896 [==============================] - 4s 101us/step - loss: 0.0041\n",
            "Epoch 105/200\n",
            "40896/40896 [==============================] - 4s 100us/step - loss: 0.0042\n",
            "Epoch 106/200\n",
            "40896/40896 [==============================] - 4s 102us/step - loss: 0.0041\n",
            "Epoch 107/200\n",
            "40896/40896 [==============================] - 4s 102us/step - loss: 0.0041\n",
            "Epoch 108/200\n",
            "40896/40896 [==============================] - 4s 100us/step - loss: 0.0042\n",
            "Epoch 109/200\n",
            "40896/40896 [==============================] - 4s 100us/step - loss: 0.0042\n",
            "Epoch 110/200\n",
            "40896/40896 [==============================] - 4s 99us/step - loss: 0.0041\n",
            "Epoch 111/200\n",
            "40896/40896 [==============================] - 4s 99us/step - loss: 0.0042\n",
            "Epoch 112/200\n",
            "40896/40896 [==============================] - 4s 100us/step - loss: 0.0041\n",
            "Epoch 113/200\n",
            "40896/40896 [==============================] - 4s 99us/step - loss: 0.0042\n",
            "Epoch 114/200\n",
            "40896/40896 [==============================] - 4s 101us/step - loss: 0.0041\n",
            "Epoch 115/200\n",
            "40896/40896 [==============================] - 4s 101us/step - loss: 0.0042\n",
            "Epoch 116/200\n",
            "40896/40896 [==============================] - 4s 100us/step - loss: 0.0041\n",
            "Epoch 117/200\n",
            "40896/40896 [==============================] - 4s 101us/step - loss: 0.0041\n",
            "Epoch 118/200\n",
            "40896/40896 [==============================] - 4s 101us/step - loss: 0.0041\n",
            "Epoch 119/200\n",
            "40896/40896 [==============================] - 4s 101us/step - loss: 0.0041\n",
            "Epoch 120/200\n",
            "40896/40896 [==============================] - 4s 101us/step - loss: 0.0040\n",
            "Epoch 121/200\n",
            "40896/40896 [==============================] - 4s 102us/step - loss: 0.0042\n",
            "Epoch 122/200\n",
            "40896/40896 [==============================] - 4s 101us/step - loss: 0.0040\n",
            "Epoch 123/200\n",
            "40896/40896 [==============================] - 4s 101us/step - loss: 0.0042\n",
            "Epoch 124/200\n",
            "40896/40896 [==============================] - 4s 102us/step - loss: 0.0041\n",
            "Epoch 125/200\n",
            "40896/40896 [==============================] - 4s 102us/step - loss: 0.0040\n",
            "Epoch 126/200\n",
            "40896/40896 [==============================] - 4s 102us/step - loss: 0.0041\n",
            "Epoch 127/200\n",
            "40896/40896 [==============================] - 4s 101us/step - loss: 0.0040\n",
            "Epoch 128/200\n",
            "40896/40896 [==============================] - 4s 102us/step - loss: 0.0041\n",
            "Epoch 129/200\n",
            "40896/40896 [==============================] - 4s 100us/step - loss: 0.0042\n",
            "Epoch 130/200\n",
            "40896/40896 [==============================] - 4s 97us/step - loss: 0.0041\n",
            "Epoch 131/200\n",
            "40896/40896 [==============================] - 4s 100us/step - loss: 0.0040\n",
            "Epoch 132/200\n",
            "40896/40896 [==============================] - 4s 100us/step - loss: 0.0040\n",
            "Epoch 133/200\n",
            "40896/40896 [==============================] - 4s 100us/step - loss: 0.0041\n",
            "Epoch 134/200\n",
            "40896/40896 [==============================] - 4s 101us/step - loss: 0.0040\n",
            "Epoch 135/200\n",
            "40896/40896 [==============================] - 4s 102us/step - loss: 0.0041\n",
            "Epoch 136/200\n",
            "40896/40896 [==============================] - 4s 101us/step - loss: 0.0041\n",
            "Epoch 137/200\n",
            "40896/40896 [==============================] - 4s 100us/step - loss: 0.0041\n",
            "Epoch 138/200\n",
            "40896/40896 [==============================] - 4s 101us/step - loss: 0.0040\n",
            "Epoch 139/200\n",
            "40896/40896 [==============================] - 4s 102us/step - loss: 0.0040\n",
            "Epoch 140/200\n",
            "40896/40896 [==============================] - 4s 101us/step - loss: 0.0040\n",
            "Epoch 141/200\n",
            "40896/40896 [==============================] - 4s 103us/step - loss: 0.0041\n",
            "Epoch 142/200\n",
            "40896/40896 [==============================] - 4s 101us/step - loss: 0.0040\n",
            "Epoch 143/200\n",
            "40896/40896 [==============================] - 4s 101us/step - loss: 0.0041\n",
            "Epoch 144/200\n",
            "40896/40896 [==============================] - 4s 101us/step - loss: 0.0040\n",
            "Epoch 145/200\n",
            "40896/40896 [==============================] - 4s 102us/step - loss: 0.0041\n",
            "Epoch 146/200\n",
            "40896/40896 [==============================] - 4s 102us/step - loss: 0.0040\n",
            "Epoch 147/200\n",
            "40896/40896 [==============================] - 4s 101us/step - loss: 0.0040\n",
            "Epoch 148/200\n",
            "40896/40896 [==============================] - 4s 99us/step - loss: 0.0040\n",
            "Epoch 149/200\n",
            "40896/40896 [==============================] - 4s 98us/step - loss: 0.0040\n",
            "Epoch 150/200\n",
            "40896/40896 [==============================] - 4s 100us/step - loss: 0.0040\n",
            "Epoch 151/200\n",
            "40896/40896 [==============================] - 4s 102us/step - loss: 0.0041\n",
            "Epoch 152/200\n",
            "40896/40896 [==============================] - 4s 101us/step - loss: 0.0040\n",
            "Epoch 153/200\n",
            "40896/40896 [==============================] - 4s 101us/step - loss: 0.0041\n",
            "Epoch 154/200\n",
            "40896/40896 [==============================] - 4s 100us/step - loss: 0.0041\n",
            "Epoch 155/200\n",
            "40896/40896 [==============================] - 4s 102us/step - loss: 0.0039\n",
            "Epoch 156/200\n",
            "40896/40896 [==============================] - 4s 102us/step - loss: 0.0040\n",
            "Epoch 157/200\n",
            "40896/40896 [==============================] - 4s 101us/step - loss: 0.0042\n",
            "Epoch 158/200\n",
            "40896/40896 [==============================] - 4s 101us/step - loss: 0.0041\n",
            "Epoch 159/200\n",
            "40896/40896 [==============================] - 4s 101us/step - loss: 0.0040\n",
            "Epoch 160/200\n",
            "40896/40896 [==============================] - 4s 102us/step - loss: 0.0040\n",
            "Epoch 161/200\n",
            "40896/40896 [==============================] - 4s 100us/step - loss: 0.0040\n",
            "Epoch 162/200\n",
            "40896/40896 [==============================] - 4s 103us/step - loss: 0.0039\n",
            "Epoch 163/200\n",
            "40896/40896 [==============================] - 4s 102us/step - loss: 0.0039\n",
            "Epoch 164/200\n",
            "40896/40896 [==============================] - 4s 101us/step - loss: 0.0040\n",
            "Epoch 165/200\n",
            "40896/40896 [==============================] - 4s 102us/step - loss: 0.0039\n",
            "Epoch 166/200\n",
            "40896/40896 [==============================] - 4s 102us/step - loss: 0.0040\n",
            "Epoch 167/200\n",
            "40896/40896 [==============================] - 4s 100us/step - loss: 0.0040\n",
            "Epoch 168/200\n",
            "40896/40896 [==============================] - 4s 99us/step - loss: 0.0040\n",
            "Epoch 169/200\n",
            "40896/40896 [==============================] - 4s 98us/step - loss: 0.0041\n",
            "Epoch 170/200\n",
            "40896/40896 [==============================] - 4s 100us/step - loss: 0.0039\n",
            "Epoch 171/200\n",
            "40896/40896 [==============================] - 4s 101us/step - loss: 0.0040\n",
            "Epoch 172/200\n",
            "40896/40896 [==============================] - 4s 101us/step - loss: 0.0040\n",
            "Epoch 173/200\n",
            "40896/40896 [==============================] - 4s 100us/step - loss: 0.0040\n",
            "Epoch 174/200\n",
            "40896/40896 [==============================] - 4s 100us/step - loss: 0.0039\n",
            "Epoch 175/200\n",
            "40896/40896 [==============================] - 4s 101us/step - loss: 0.0039\n",
            "Epoch 176/200\n",
            "40896/40896 [==============================] - 4s 100us/step - loss: 0.0040\n",
            "Epoch 177/200\n",
            "40896/40896 [==============================] - 4s 101us/step - loss: 0.0041\n",
            "Epoch 178/200\n",
            "40896/40896 [==============================] - 4s 101us/step - loss: 0.0039\n",
            "Epoch 179/200\n",
            "40896/40896 [==============================] - 4s 101us/step - loss: 0.0041\n",
            "Epoch 180/200\n",
            "40896/40896 [==============================] - 4s 102us/step - loss: 0.0040\n",
            "Epoch 181/200\n",
            "40896/40896 [==============================] - 4s 102us/step - loss: 0.0039\n",
            "Epoch 182/200\n",
            "40896/40896 [==============================] - 4s 101us/step - loss: 0.0040\n",
            "Epoch 183/200\n",
            "40896/40896 [==============================] - 4s 103us/step - loss: 0.0039\n",
            "Epoch 184/200\n",
            "40896/40896 [==============================] - 4s 100us/step - loss: 0.0040\n",
            "Epoch 185/200\n",
            "40896/40896 [==============================] - 4s 102us/step - loss: 0.0040\n",
            "Epoch 186/200\n",
            "40896/40896 [==============================] - 4s 99us/step - loss: 0.0039\n",
            "Epoch 187/200\n",
            "40896/40896 [==============================] - 4s 102us/step - loss: 0.0038\n",
            "Epoch 188/200\n",
            "40896/40896 [==============================] - 4s 98us/step - loss: 0.0039\n",
            "Epoch 189/200\n",
            "40896/40896 [==============================] - 4s 100us/step - loss: 0.0038\n",
            "Epoch 190/200\n",
            "40896/40896 [==============================] - 4s 100us/step - loss: 0.0038\n",
            "Epoch 191/200\n",
            "40896/40896 [==============================] - 4s 100us/step - loss: 0.0040\n",
            "Epoch 192/200\n",
            "40896/40896 [==============================] - 4s 100us/step - loss: 0.0039\n",
            "Epoch 193/200\n",
            "40896/40896 [==============================] - 4s 101us/step - loss: 0.0039\n",
            "Epoch 194/200\n",
            "40896/40896 [==============================] - 4s 99us/step - loss: 0.0039\n",
            "Epoch 195/200\n",
            "40896/40896 [==============================] - 4s 103us/step - loss: 0.0039\n",
            "Epoch 196/200\n",
            "40896/40896 [==============================] - 4s 101us/step - loss: 0.0041\n",
            "Epoch 197/200\n",
            "40896/40896 [==============================] - 4s 102us/step - loss: 0.0040\n",
            "Epoch 198/200\n",
            "40896/40896 [==============================] - 4s 100us/step - loss: 0.0040\n",
            "Epoch 199/200\n",
            "40896/40896 [==============================] - 4s 101us/step - loss: 0.0039\n",
            "Epoch 200/200\n",
            "40896/40896 [==============================] - 4s 101us/step - loss: 0.0039\n"
          ],
          "name": "stdout"
        }
      ]
    },
    {
      "metadata": {
        "id": "3tbMPDQXYHcJ",
        "colab_type": "code",
        "colab": {}
      },
      "cell_type": "code",
      "source": [
        "def make_model(timestamp):\n",
        "  regressor = Sequential()\n",
        "  regressor.add(LSTM(units = 60,return_sequences=True, input_shape = (None,2),))\n",
        "  regressor.add(Bidirectional(LSTM(15,activation='tanh',recurrent_dropout= 0.2)))\n",
        "  regressor.add(RepeatVector(timestamp))\n",
        "  regressor.add(Bidirectional(LSTM(15,return_sequences=True,recurrent_dropout= 0.2)))\n",
        "  regressor.add(LSTM(60,return_sequences=True))\n",
        "  regressor.add(TimeDistributed(Dense(units = 1,activation='tanh')))\n",
        "\n",
        "\n",
        "  \n",
        "  regressor.compile(optimizer =tf.train.RMSPropOptimizer(learning_rate=0.007),loss = \"mean_squared_error\")\n",
        "  \n",
        "  return regressor"
      ],
      "execution_count": 0,
      "outputs": []
    },
    {
      "metadata": {
        "id": "zmscuMJNiDqW",
        "colab_type": "code",
        "colab": {}
      },
      "cell_type": "code",
      "source": [
        "#model_loss_accuracy(model,n_epochs,timestamp,0.2)"
      ],
      "execution_count": 0,
      "outputs": []
    },
    {
      "metadata": {
        "id": "qIzkbmOszuzT",
        "colab_type": "code",
        "outputId": "b779b1cd-e588-43c8-ed20-8d90f0284330",
        "colab": {
          "base_uri": "https://localhost:8080/",
          "height": 35
        }
      },
      "cell_type": "code",
      "source": [
        "model.save_weights(\"/content/drive/My Drive/Machine_Learning/CSE499VTS/tpu_model_denoise_Whole_batch_LSTM_autoencoder.h5\",overwrite = True)\n"
      ],
      "execution_count": 0,
      "outputs": [
        {
          "output_type": "stream",
          "text": [
            "INFO:tensorflow:Copying TPU weights to the CPU\n"
          ],
          "name": "stdout"
        }
      ]
    },
    {
      "metadata": {
        "id": "hJ70mzs2NCS2",
        "colab_type": "code",
        "outputId": "9d8a258c-e025-4428-d818-1e9369ac9b2a",
        "colab": {
          "base_uri": "https://localhost:8080/",
          "height": 363
        }
      },
      "cell_type": "code",
      "source": [
        "inferencing_model = make_model(timestamp = 60)\n",
        "inferencing_model.load_weights('/content/drive/My Drive/Machine_Learning/CSE499VTS/tpu_model_denoise_Whole_batch_LSTM_autoencoder.h5')\n",
        "inferencing_model.summary()\n"
      ],
      "execution_count": 0,
      "outputs": [
        {
          "output_type": "stream",
          "text": [
            "_________________________________________________________________\n",
            "Layer (type)                 Output Shape              Param #   \n",
            "=================================================================\n",
            "lstm_8 (LSTM)                (None, None, 60)          15120     \n",
            "_________________________________________________________________\n",
            "bidirectional_4 (Bidirection (None, 60)                21840     \n",
            "_________________________________________________________________\n",
            "repeat_vector_2 (RepeatVecto (None, 60, 60)            0         \n",
            "_________________________________________________________________\n",
            "bidirectional_5 (Bidirection (None, 60, 60)            21840     \n",
            "_________________________________________________________________\n",
            "lstm_11 (LSTM)               (None, 60, 60)            29040     \n",
            "_________________________________________________________________\n",
            "time_distributed_1 (TimeDist (None, 60, 1)             61        \n",
            "=================================================================\n",
            "Total params: 87,901\n",
            "Trainable params: 87,901\n",
            "Non-trainable params: 0\n",
            "_________________________________________________________________\n"
          ],
          "name": "stdout"
        }
      ]
    },
    {
      "metadata": {
        "id": "-tlfF_G9Eloq",
        "colab_type": "code",
        "colab": {}
      },
      "cell_type": "code",
      "source": [
        "def pre_data_for_predict(to_predict,timstamp,features):\n",
        "  predict = data_preprocessing_predict(minMaxScaler(to_predict),timstamp,features)\n",
        "  return  predict\n",
        "  \n",
        "  \n",
        "\n"
      ],
      "execution_count": 0,
      "outputs": []
    },
    {
      "metadata": {
        "id": "ktJiQ4-A70id",
        "colab_type": "code",
        "colab": {}
      },
      "cell_type": "code",
      "source": [
        ""
      ],
      "execution_count": 0,
      "outputs": []
    },
    {
      "metadata": {
        "id": "8HuIYdRSF4lG",
        "colab_type": "code",
        "colab": {}
      },
      "cell_type": "code",
      "source": [
        "prediction = pre_data_for_predict(Volume_train,60,2)\n",
        "Test_scaled  = D_train_final\n"
      ],
      "execution_count": 0,
      "outputs": []
    },
    {
      "metadata": {
        "id": "X6KH0yzZQ-3y",
        "colab_type": "code",
        "colab": {}
      },
      "cell_type": "code",
      "source": [
        "neural = predict(inferencing_model,Test_scaled,prediction,72)\n",
        "#neural = pd.DataFrame(neural)\n",
        "neural.size"
      ],
      "execution_count": 0,
      "outputs": []
    },
    {
      "metadata": {
        "id": "TEaULkZTi0nz",
        "colab_type": "code",
        "colab": {}
      },
      "cell_type": "code",
      "source": [
        ""
      ],
      "execution_count": 0,
      "outputs": []
    },
    {
      "metadata": {
        "id": "81kyLdOsqJyK",
        "colab_type": "code",
        "colab": {}
      },
      "cell_type": "code",
      "source": [
        "\n",
        "def denoise(data,wavelet,levels,level,alpha):\n",
        "    WC = pywt.wavedec(data,wavelet,mode = \"per\",level = level)\n",
        "    noiseSigma = mad( WC[-levels] )\n",
        "    threshold=alpha*noiseSigma*math.sqrt(math.log2(data.size))\n",
        "    NWC = map(lambda x: pywt.threshold(x,threshold,'garotte'), WC)\n",
        "    NWC = list(NWC)\n",
        "    NWC = pywt.waverec( NWC, wavelet,mode= \"per\")\n",
        "    plt.plot(NWC)\n",
        "    NWC = pd.DataFrame(NWC)\n",
        "    return NWC"
      ],
      "execution_count": 0,
      "outputs": []
    },
    {
      "metadata": {
        "id": "e2b0o20DhQtO",
        "colab_type": "code",
        "colab": {}
      },
      "cell_type": "code",
      "source": [
        "\n",
        "def thresholding_algo_RF(y, lag, threshold_for_refill, influence):\n",
        "    signals = np.zeros(len(y))\n",
        "    Signal_RF = []\n",
        "    Index_start_RF = []\n",
        "    Index_stop_RF = []\n",
        "    volume_RF = []\n",
        "    filteredY = np.array(y)\n",
        "    avgFilter = [0]*len(y)\n",
        "    stdFilter = [0]*len(y)\n",
        "    avgFilter[lag - 1] = np.mean(y[0:lag])\n",
        "    \n",
        "    for i in range(lag, len(y)):\n",
        "        if abs(y[i] - avgFilter[i-1]) > threshold_for_refill:\n",
        "            if y[i] < avgFilter[i-1]:\n",
        "                signals[i] = -1\n",
        "                Signal_RF.append(\"refill\")\n",
        "                Index_start_RF.append(i)\n",
        "                Index_stop_RF.append(i-1)\n",
        "                volume_RF.append(y[i])  \n",
        "\n",
        "            filteredY[i] = influence * y[i] + (1 - influence) * filteredY[i-1]\n",
        "            avgFilter[i] = np.mean(filteredY[(i-lag+1):i+1])\n",
        "      \n",
        "        else:\n",
        "            signals[i] = 0\n",
        "            filteredY[i] = y[i]\n",
        "            avgFilter[i] = np.mean(filteredY[(i-lag+1):i+1])\n",
        "        \n",
        "\n",
        "    return dict(signals = np.asarray(signals),\n",
        "                avgFilter = np.asarray(avgFilter)),dict(signals = Signal_RF,\n",
        "                                                        Index_start = Index_start_RF,\n",
        "                                                          Index_stop = Index_stop_RF,\n",
        "                                                         volume = volume_RF )"
      ],
      "execution_count": 0,
      "outputs": []
    },
    {
      "metadata": {
        "id": "Hj-C3BpQ5v9p",
        "colab_type": "code",
        "colab": {}
      },
      "cell_type": "code",
      "source": [
        "def thresholding_algo_ST(y, lag,threshold_for_steal, influence):\n",
        "    signals = np.zeros(len(y))\n",
        "    Signal_ST = []\n",
        "    Index_start_ST = []\n",
        "    Index_stop_ST = []\n",
        "    volume_ST = []\n",
        "    filteredY = np.array(y)\n",
        "    avgFilter = [0]*len(y)\n",
        "    stdFilter = [0]*len(y)\n",
        "    avgFilter[lag - 1] = np.mean(y[0:lag])\n",
        "    \n",
        "    for i in range(lag, len(y)):\n",
        "        if abs(y[i] - avgFilter[i-1]) > threshold_for_steal:\n",
        "            if y[i] > avgFilter[i-1]:\n",
        "                signals[i] = 1\n",
        "                Signal_ST.append(\"stolen\")\n",
        "                Index_start_ST.append(i)\n",
        "                Index_stop_ST.append(i-1)\n",
        "                volume_ST.append(y[i])  \n",
        "\n",
        "            filteredY[i] = influence * y[i] + (1 - influence) * filteredY[i-1]\n",
        "            avgFilter[i] = np.mean(filteredY[(i-lag+1):i+1])\n",
        "      \n",
        "        else:\n",
        "            signals[i] = 0\n",
        "            filteredY[i] = y[i]\n",
        "            avgFilter[i] = np.mean(filteredY[(i-lag+1):i+1])\n",
        "        \n",
        "\n",
        "    return dict(signals = np.asarray(signals),\n",
        "                avgFilter = np.asarray(avgFilter)),dict(signals = Signal_ST,\n",
        "                                                        Index_start = Index_start_ST,\n",
        "                                                          Index_stop = Index_stop_ST,\n",
        "                                                         volume = volume_ST )"
      ],
      "execution_count": 0,
      "outputs": []
    },
    {
      "metadata": {
        "id": "dRDyrq4ZkrYp",
        "colab_type": "code",
        "colab": {}
      },
      "cell_type": "code",
      "source": [
        "def wavlet_analysis(Data,batch_size,levels,level,alpha): \n",
        "  #wavelet analysis\n",
        "  batch_s = batch_size\n",
        "  ward_list = pd.DataFrame()\n",
        "  size1 = 0\n",
        "  size2 =  batch_s     \n",
        "  count_row_test = Data.shape[0]\n",
        "  num_batches =int(round(count_row_test/ batch_s)) \n",
        "  for x in range(num_batches):\n",
        "    \n",
        "    batch2 = Data.iloc[size1:size2]\n",
        "    batch_noise = batch2.values.squeeze()\n",
        "    ward = denoise(batch_noise,\"haar\",levels,level,alpha)\n",
        "    ward_list = ward_list.append(ward,ignore_index=True)\n",
        "    size1 = size1+ batch_s\n",
        "    size2 = size2+ batch_s\n",
        "  \n",
        "  ward_list = ward_list.values\n",
        "  \n",
        "  #interpolation\n",
        "  ward_list = fill_nans_scipy1(ward_list)\n",
        "  ward_list = pd.DataFrame(ward_list)\n",
        "  return ward_list"
      ],
      "execution_count": 0,
      "outputs": []
    },
    {
      "metadata": {
        "id": "vMIm4wGX7c8M",
        "colab_type": "code",
        "colab": {}
      },
      "cell_type": "code",
      "source": [
        "def detecting_Stolen(data,lag =5,threshold1 = 2,influence = 0):\n",
        "  result,Stolen = thresholding_algo_ST(data, lag=lag,threshold_for_steal = threshold1, influence=influence)\n",
        "  plt.subplot(211)\n",
        "  plt.plot(np.arange(1, len(data)+1),data)\n",
        "  plt.subplot(212)\n",
        "  plt.step(np.arange(1, len(data)+1), result[\"signals\"], color=\"pink\", lw=2)\n",
        "  plt.ylim(-1.5, 1.5)\n",
        "  print(Stolen)\n",
        "  return Stolen"
      ],
      "execution_count": 0,
      "outputs": []
    },
    {
      "metadata": {
        "id": "1HiNtrq-7ffK",
        "colab_type": "code",
        "colab": {}
      },
      "cell_type": "code",
      "source": [
        "\n",
        "def detecting_Refill(data,lag =5,threshold1 = 1.2,influence = 0):\n",
        "  result,Refill = thresholding_algo_RF(data, lag=lag, threshold_for_refill=threshold1,influence=influence)\n",
        "  plt.subplot(211)\n",
        "  plt.plot(np.arange(1, len(data)+1),data)\n",
        "  plt.subplot(212)\n",
        "  plt.step(np.arange(1, len(data)+1), result[\"signals\"], color=\"red\", lw=2)\n",
        "  plt.ylim(-1.5, 1.5)\n",
        "  print(Refill)\n",
        "  return Refill"
      ],
      "execution_count": 0,
      "outputs": []
    },
    {
      "metadata": {
        "id": "O73P6JZlkz_Q",
        "colab_type": "code",
        "colab": {}
      },
      "cell_type": "code",
      "source": [
        " neural1 =  wavlet_analysis(neural,100,6,10,3.5)"
      ],
      "execution_count": 0,
      "outputs": []
    },
    {
      "metadata": {
        "id": "WK37akbL5Fcy",
        "colab_type": "code",
        "colab": {}
      },
      "cell_type": "code",
      "source": [
        "plt.plot(neural1)"
      ],
      "execution_count": 0,
      "outputs": []
    },
    {
      "metadata": {
        "id": "nTXdduj6jAD9",
        "colab_type": "code",
        "colab": {}
      },
      "cell_type": "code",
      "source": [
        "volume1 =  new_feature_analysis(neural1)\n"
      ],
      "execution_count": 0,
      "outputs": []
    },
    {
      "metadata": {
        "id": "BBLJCjPgiuhN",
        "colab_type": "code",
        "colab": {}
      },
      "cell_type": "code",
      "source": [
        "stolen = detecting_Stolen(volume1[\"volume\"],lag =5,threshold1 = 4,influence = 0)\n",
        "\n"
      ],
      "execution_count": 0,
      "outputs": []
    },
    {
      "metadata": {
        "id": "QQ-8O6DD69lw",
        "colab_type": "code",
        "colab": {}
      },
      "cell_type": "code",
      "source": [
        "refill = detecting_Refill(volume1[\"volume\"],lag =5,threshold1 = 5,influence = 0)\n"
      ],
      "execution_count": 0,
      "outputs": []
    },
    {
      "metadata": {
        "id": "glW-sJUcnT7a",
        "colab_type": "text"
      },
      "cell_type": "markdown",
      "source": [
        ""
      ]
    },
    {
      "metadata": {
        "id": "AGhdBpMkVRHR",
        "colab_type": "code",
        "colab": {}
      },
      "cell_type": "code",
      "source": [
        "Test_non_scaled1  = Test_non_scaled[1000:2550]\n",
        "Test_non_scaled2  = Test_non_scaled[3000:3300]\n",
        "Test_non_scaled3  = Test_non_scaled[4000:]\n",
        "Test_list_mod = [Test_non_scaled1,Test_non_scaled2,Test_non_scaled3]\n",
        "Test_train_final_mod = pd.DataFrame()\n",
        "for x in range(len(Test_list_mod)):\n",
        "  \n",
        "  Test_train_final_mod = Test_train_final_mod.append(Test_list_mod[x], ignore_index=True)\n",
        "\n",
        "#Test_train_final_mod = Clustering(Test_train_final_mod,200)\n",
        "Test_train_final  = new_feature_analysis(Test_train_final_mod)\n",
        "test_scaled =data_preprocessing_predict(minMaxScaler(Test_train_final),100,2)\n",
        "\n",
        "test_scaled.shape"
      ],
      "execution_count": 0,
      "outputs": []
    },
    {
      "metadata": {
        "id": "jMPPxLspVSYM",
        "colab_type": "code",
        "colab": {}
      },
      "cell_type": "code",
      "source": [
        ""
      ],
      "execution_count": 0,
      "outputs": []
    },
    {
      "metadata": {
        "id": "nxb5E-Mw77pv",
        "colab_type": "code",
        "colab": {}
      },
      "cell_type": "code",
      "source": [
        "neural = predict(inferencing_model,Test_train_final_mod,test_scaled,72)\n",
        "\n"
      ],
      "execution_count": 0,
      "outputs": []
    },
    {
      "metadata": {
        "id": "9waMYA7iaq5l",
        "colab_type": "code",
        "colab": {}
      },
      "cell_type": "code",
      "source": [
        "#neural = pd.DataFrame(neural)\n",
        "neural = neural.squeeze()"
      ],
      "execution_count": 0,
      "outputs": []
    },
    {
      "metadata": {
        "id": "LU2WihZmGbXG",
        "colab_type": "code",
        "colab": {}
      },
      "cell_type": "code",
      "source": [
        "\n",
        "\n",
        "\n",
        "neural1 =  wavlet_analysis(neural,100,6,10,3.7)"
      ],
      "execution_count": 0,
      "outputs": []
    },
    {
      "metadata": {
        "id": "N86GoqL8HJa5",
        "colab_type": "code",
        "colab": {}
      },
      "cell_type": "code",
      "source": [
        "plt.plot(neural1)"
      ],
      "execution_count": 0,
      "outputs": []
    },
    {
      "metadata": {
        "id": "JoAtxXx2M46r",
        "colab_type": "code",
        "colab": {}
      },
      "cell_type": "code",
      "source": [
        "volume1 =  new_feature_analysis(neural1)\n"
      ],
      "execution_count": 0,
      "outputs": []
    },
    {
      "metadata": {
        "id": "qSBHhGM3F1j3",
        "colab_type": "code",
        "colab": {}
      },
      "cell_type": "code",
      "source": [
        "stolen = detecting_Stolen(volume1[\"volume\"],lag =5,threshold1 = 2.8 ,influence = 0)"
      ],
      "execution_count": 0,
      "outputs": []
    },
    {
      "metadata": {
        "id": "0DVLoWM1F5Ae",
        "colab_type": "code",
        "colab": {}
      },
      "cell_type": "code",
      "source": [
        "refill = detecting_Refill(volume1[\"volume\"],lag =5,threshold1 = 5,influence = 0)"
      ],
      "execution_count": 0,
      "outputs": []
    },
    {
      "metadata": {
        "id": "Y5v2lNGJ_e8H",
        "colab_type": "code",
        "colab": {}
      },
      "cell_type": "code",
      "source": [
        ""
      ],
      "execution_count": 0,
      "outputs": []
    },
    {
      "metadata": {
        "id": "K_UN5YxpcKwD",
        "colab_type": "code",
        "colab": {}
      },
      "cell_type": "code",
      "source": [
        "#neural1 = filter(neural,window_median = 67 ,polyorder = 1,window_golay = 11 ,mode = \"interp\",filters = \"median\")\n",
        "#neural1 = pd.DataFrame(neural1)"
      ],
      "execution_count": 0,
      "outputs": []
    },
    {
      "metadata": {
        "id": "tYtQFrIB6wko",
        "colab_type": "code",
        "colab": {}
      },
      "cell_type": "code",
      "source": [
        "# model_json = model.to_json()\n",
        "# with open(\"/content/drive/My Drive/Machine_Learning/CSE499VTS/model.json\",\"w\")as json_file:\n",
        "#   json_file.write(model_json)\n",
        "# model.save_weights(\"/content/drive/My Drive/Machine_Learning/CSE499VTS/model1.h5\")\n",
        "# print(\"model saved\")"
      ],
      "execution_count": 0,
      "outputs": []
    },
    {
      "metadata": {
        "id": "E-nb4oO-6z9v",
        "colab_type": "code",
        "colab": {}
      },
      "cell_type": "code",
      "source": [
        "# json_file = open(\"/content/drive/My Drive/Machine_Learning/CSE499VTS/model.json\",'r')\n",
        "# loaded_model_json = json_file.read()\n",
        "# json_file.close()\n",
        "# loaded_model = tf.keras.models.model_from_json(loaded_model_json)\n",
        "# loaded_model.load_weights(\"/content/drive/My Drive/Machine_Learning/CSE499VTS/model.h5\")\n",
        "# print(\"loaded model from disk\")"
      ],
      "execution_count": 0,
      "outputs": []
    },
    {
      "metadata": {
        "id": "ymGngFENGFb-",
        "colab_type": "code",
        "colab": {}
      },
      "cell_type": "code",
      "source": [
        "# X_independent = Clustering_voltage(df_prime[0:19900],280)\n",
        "# Y_dependent =  D\n",
        "\n",
        "# Test_non_scaled = Clustering_voltage(df_prime[19601:],280)\n",
        "\n",
        "\n",
        "# X = np.arange(0,19600,1)\n",
        "# print(Label.shape)\n",
        "# test_X = np.arange(0,4760,1)\n",
        "# X = X.reshape(len(X),1)\n",
        "# test_X = test_X.reshape(len(test_X),1)\n"
      ],
      "execution_count": 0,
      "outputs": []
    },
    {
      "metadata": {
        "id": "6SWGnKFS6b4d",
        "colab_type": "code",
        "colab": {}
      },
      "cell_type": "code",
      "source": [
        "# from sklearn.ensemble import RandomForestRegressor\n",
        "# regress = RandomForestRegressor(n_estimators = 1000, random_state = 10,min_samples_split=200)\n",
        "# regress.fit(X_independent,Y_dependent)"
      ],
      "execution_count": 0,
      "outputs": []
    },
    {
      "metadata": {
        "id": "a0UlFH6PGGR1",
        "colab_type": "code",
        "colab": {}
      },
      "cell_type": "code",
      "source": [
        "# from sklearn.linear_model import LinearRegression\n",
        "# linear = LinearRegression()\n",
        "# linear.fit(X_independent,Y_dependent)"
      ],
      "execution_count": 0,
      "outputs": []
    },
    {
      "metadata": {
        "id": "P9zHLpZeHdMg",
        "colab_type": "code",
        "colab": {}
      },
      "cell_type": "code",
      "source": [
        "# from sklearn.preprocessing import PolynomialFeatures\n",
        "# poly_reg = PolynomialFeatures(degree = 10)\n",
        "# X_poly = poly_reg.fit_transform(X_independent)\n",
        "# linear_poly1 = LinearRegression()\n",
        "# linear_poly1.fit(X_poly,Y_dependent)\n"
      ],
      "execution_count": 0,
      "outputs": []
    },
    {
      "metadata": {
        "id": "G-kZkTpDN8sg",
        "colab_type": "code",
        "colab": {}
      },
      "cell_type": "code",
      "source": [
        "# plt.figure(2)\n",
        "# plt.subplot(211)\n",
        "# plt.plot(X,X_independent[0],color='black')\n",
        "# plt.subplot(212)\n",
        "# plt.plot(X,Y_dependent[0],color='red')\n",
        "\n"
      ],
      "execution_count": 0,
      "outputs": []
    },
    {
      "metadata": {
        "id": "HW_WQfWDZNfE",
        "colab_type": "code",
        "colab": {}
      },
      "cell_type": "code",
      "source": [
        "# plt.figure(3)\n",
        "# plt.subplot(311)\n",
        "# plt.plot(Test_non_scaled,color='red')\n",
        "# plt.subplot(312)\n",
        "# plt.plot(neural,color='red')\n",
        "# plt.subplot(313)\n",
        "# plt.plot(regress.predict(Test_non_scaled),color='red')\n"
      ],
      "execution_count": 0,
      "outputs": []
    },
    {
      "metadata": {
        "id": "Cmq3PBuTQ2rt",
        "colab_type": "code",
        "colab": {}
      },
      "cell_type": "code",
      "source": [
        "# plt.figure(3)\n",
        "# plt.subplot(311)\n",
        "# plt.plot(test_X,Test_non_scaled,color='red')\n",
        "# plt.subplot(312)\n",
        "# plt.plot(neural,color='red')\n",
        "# plt.subplot(313)\n",
        "# plt.plot(test_X,regress.predict(Test_non_scaled),color = \"blue\")"
      ],
      "execution_count": 0,
      "outputs": []
    },
    {
      "metadata": {
        "id": "ZcGAIo0tl-93",
        "colab_type": "text"
      },
      "cell_type": "markdown",
      "source": [
        "***Inputs and outputs***"
      ]
    },
    {
      "metadata": {
        "id": "19k2Isj_tI5B",
        "colab_type": "text"
      },
      "cell_type": "markdown",
      "source": [
        "***Save model***"
      ]
    }
  ]
}